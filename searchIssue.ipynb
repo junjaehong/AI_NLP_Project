{
 "cells": [
  {
   "cell_type": "code",
   "execution_count": 1,
   "id": "e37fc5c7",
   "metadata": {},
   "outputs": [],
   "source": [
    "import re\n",
    "import mysql.connector\n",
    "import pymysql\n",
    "import os\n",
    "from dotenv import load_dotenv\n",
    "from konlpy.tag import Okt"
   ]
  },
  {
   "cell_type": "code",
   "execution_count": 34,
   "id": "28d01115",
   "metadata": {},
   "outputs": [],
   "source": [
    "class searchIssue :\n",
    "    \n",
    "    def __init__(self):\n",
    "        load_dotenv()\n",
    "        self.host=os.getenv(\"HOST\")\n",
    "        self.user=os.getenv(\"USER_NAME\")\n",
    "        self.password=os.getenv(\"PASSWORD\")\n",
    "        self.database=os.getenv(\"DATABASE\")\n",
    "    \n",
    "    def hotEnter(self):\n",
    "        \n",
    "        articles = []\n",
    "        \n",
    "        cnn = pymysql.connect(host=self.host, user=self.user, password=self.password, database=self.database)\n",
    "        cur = cnn.cursor()\n",
    "\n",
    "        searchMaxQuery = 'SELECT * FROM enterprise_data WHERE devi_yes_avg = (SELECT MAX(devi_yes_avg) FROM enterprise_data)'\n",
    "\n",
    "        cur.execute(searchMaxQuery)\n",
    "\n",
    "        hotEId = cur.fetchall()[0][0]\n",
    "        #print(hotEId)\n",
    "        \n",
    "        findArticlesQuery = 'SELECT news_doc FROM news_data WHERE enter_id = %s'\n",
    "        cur.execute(findArticlesQuery,hotEId)\n",
    "        \n",
    "        findArticles = cur.fetchall()\n",
    "        \n",
    "        for i in range(len(findArticles)):\n",
    "            articles.append(findArticles[i][0])\n",
    "        \n",
    "        self.keyWord(articles)\n",
    "        \n",
    "        cur.close()\n",
    "        cnn.close()\n",
    "    \n",
    "    \n",
    "    def coldEnter(self):\n",
    "        \n",
    "        articles = []\n",
    "        \n",
    "        cnn = pymysql.connect(host=self.host, user=self.user, password=self.password, database=self.database)\n",
    "        cur = cnn.cursor()\n",
    "\n",
    "        searchMaxQuery = 'SELECT * FROM enterprise_data WHERE devi_yes_avg = (SELECT MIN(devi_yes_avg) FROM enterprise_data)'\n",
    "\n",
    "        cur.execute(searchMaxQuery)\n",
    "\n",
    "        coldEId = cur.fetchall()[0][0]\n",
    "        #print(hotEId)\n",
    "        \n",
    "        findArticlesQuery = 'SELECT news_doc FROM news_data WHERE enter_id = %s'\n",
    "        cur.execute(findArticlesQuery,coldEId)\n",
    "        \n",
    "        findArticles = cur.fetchall()\n",
    "        \n",
    "        for i in range(len(findArticles)):\n",
    "            articles.append(findArticles[i][0])\n",
    "        \n",
    "        self.keyWord(articles)\n",
    "        \n",
    "        cur.close()\n",
    "        cnn.close()\n",
    "        \n",
    "    def keyWord(self,art):\n",
    "        keyword_article = ''.join(art)\n",
    "\n",
    "        tokenizer = Okt()\n",
    "        raw_pos_tagged = tokenizer.pos(keyword_article, norm=True, stem=True)\n",
    "\n",
    "        del_list = ['하다', '있다', '되다', '이다', '돼다', '않다', '그렇다', '아니다', '이렇다', '그렇다', '어떻다']\n",
    "\n",
    "        word_cleaned = []\n",
    "        for word in raw_pos_tagged:\n",
    "            if not word[1] in [\"Josa\", \"Eomi\", \"Punctuation\", \"Foreign\"]: # Foreign == ”, “ 와 같이 제외되어야할 항목들\n",
    "                if (len(word[0]) != 1) and (word[0] not in del_list): # 한 글자로 이뤄진 단어들을 제외 & 원치 않는 단어들을 제외\n",
    "            # 숫자나 이메일 형식의 단어 제외\n",
    "                    if not re.match(r'^[0-9]*$', word[0]) and not re.match(r'^[a-zA-Z0-9._%+-]+@[a-zA-Z0-9.-]+\\.[a-zA-Z]{2,}$', word[0]):\n",
    "                        word_cleaned.append(word[0])\n",
    "\n",
    "        word_dic = {}\n",
    "\n",
    "        for word in word_cleaned:\n",
    "            if word not in word_dic:\n",
    "                word_dic[word] = 1 # changed from \"0\" to \"1\"\n",
    "            else:\n",
    "                word_dic[word] += 1\n",
    "\n",
    "        sorted_word_dic = sorted(word_dic.items(), key=lambda x:x[1], reverse=True)[:5]\n",
    "\n",
    "        for word, count in sorted_word_dic:\n",
    "            print(\"{0}({1})\".format(word, count), end=\" \")"
   ]
  },
  {
   "cell_type": "code",
   "execution_count": 35,
   "id": "579f39cf",
   "metadata": {},
   "outputs": [],
   "source": [
    "test = searchIssue()"
   ]
  },
  {
   "cell_type": "code",
   "execution_count": 30,
   "id": "bd68bbe5",
   "metadata": {},
   "outputs": [
    {
     "name": "stdout",
     "output_type": "stream",
     "text": [
      "플랫폼(2003) 네이버(1506) 기업(1177) AI(949) 시장(882) "
     ]
    }
   ],
   "source": [
    "test.hotEnter()"
   ]
  },
  {
   "cell_type": "code",
   "execution_count": 36,
   "id": "a1305346",
   "metadata": {},
   "outputs": [
    {
     "name": "stdout",
     "output_type": "stream",
     "text": [
      "쿠팡(829) 플랫폼(706) 명품(528) 페치(517) AI(487) "
     ]
    }
   ],
   "source": [
    "test.coldEnter()"
   ]
  },
  {
   "cell_type": "code",
   "execution_count": 21,
   "id": "095610e5",
   "metadata": {},
   "outputs": [
    {
     "name": "stdout",
     "output_type": "stream",
     "text": [
      "플랫폼(2003) 네이버(1506) 기업(1177) AI(949) 시장(882) 규제(645) 경쟁(610) 서비스(606) 국내(539) 사업자(522) SSAFY(505) 삼성(500) 통해(467) 행위(463) 19일(446) 교육(431) 카카오(402) 늘다(384) 밝히다(381) 서울(379) 공정위(371) 반도체(367) 지배(356) 지정(349) 사업(348) 위해(346) 독과점(346) 오다(337) 제공(333) 기자(331) 올해(327) 게임(326) 정부(323) 클라우드(321) 취업(317) 가다(312) 크다(304) 지난(302) 없다(296) SW(292) 발표(289) 기술(288) 진행(288) 연구(284) 대표(280) 소비자(277) 투자(275) 보다(272) 전자(269) 개발(268) "
     ]
    }
   ],
   "source": [
    "test.keyWord()"
   ]
  },
  {
   "cell_type": "code",
   "execution_count": null,
   "id": "074998d6",
   "metadata": {},
   "outputs": [],
   "source": []
  }
 ],
 "metadata": {
  "kernelspec": {
   "display_name": "Python 3 (ipykernel)",
   "language": "python",
   "name": "python3"
  },
  "language_info": {
   "codemirror_mode": {
    "name": "ipython",
    "version": 3
   },
   "file_extension": ".py",
   "mimetype": "text/x-python",
   "name": "python",
   "nbconvert_exporter": "python",
   "pygments_lexer": "ipython3",
   "version": "3.8.17"
  }
 },
 "nbformat": 4,
 "nbformat_minor": 5
}
