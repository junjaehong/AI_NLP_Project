{
 "cells": [
  {
   "cell_type": "code",
   "execution_count": 18,
   "id": "d7202d58",
   "metadata": {},
   "outputs": [],
   "source": [
    "# pip install mysql-connector-python"
   ]
  },
  {
   "cell_type": "code",
   "execution_count": 142,
   "id": "99c1e7c5",
   "metadata": {},
   "outputs": [],
   "source": [
    "# !pip install sqlalchemy"
   ]
  },
  {
   "cell_type": "code",
   "execution_count": 143,
   "id": "a2106c27",
   "metadata": {},
   "outputs": [],
   "source": [
    "import mysql.connector"
   ]
  },
  {
   "cell_type": "code",
   "execution_count": 144,
   "id": "f26abb7d",
   "metadata": {},
   "outputs": [],
   "source": [
    "# MySQL 연결 설정\n",
    "config = {\n",
    "    'user': 'admin_ytk',\n",
    "    'password': 'tN8VnV1aBuDNvcnPWKgU',\n",
    "    'host': 'database-ytk.ctkg5u6wqxe6.us-east-2.rds.amazonaws.com',\n",
    "    'database': 'NLP_G3',\n",
    "    'raise_on_warnings': True\n",
    "}"
   ]
  },
  {
   "cell_type": "code",
   "execution_count": 145,
   "id": "3ad59ed8",
   "metadata": {},
   "outputs": [],
   "source": [
    "# MySQL 연결\n",
    "connection = mysql.connector.connect(**config)"
   ]
  },
  {
   "cell_type": "code",
   "execution_count": 146,
   "id": "99c0c118",
   "metadata": {},
   "outputs": [],
   "source": [
    "# 커서 생성\n",
    "cursor = connection.cursor()"
   ]
  },
  {
   "cell_type": "markdown",
   "id": "2fbeb5e8",
   "metadata": {},
   "source": [
    "## ID 생성기"
   ]
  },
  {
   "cell_type": "code",
   "execution_count": 152,
   "id": "3c6bdfc5",
   "metadata": {},
   "outputs": [],
   "source": [
    "from datetime import datetime\n",
    "\n",
    "def create_id(id_type, id_num):\n",
    "    id_list = []\n",
    "    \n",
    "    for num in range(0, id_num):\n",
    "        id_list.append('{0}_{1}'.format(id_type + datetime.today().strftime(\"_%Y%m%d_%H%M%S\"), num))\n",
    "    \n",
    "    return id_list"
   ]
  },
  {
   "cell_type": "code",
   "execution_count": 153,
   "id": "4c32b1cc",
   "metadata": {},
   "outputs": [
    {
     "name": "stdout",
     "output_type": "stream",
     "text": [
      "['news_20231211_162052_0', 'news_20231211_162052_1', 'news_20231211_162052_2', 'news_20231211_162052_3', 'news_20231211_162052_4', 'news_20231211_162052_5', 'news_20231211_162052_6', 'news_20231211_162052_7', 'news_20231211_162052_8', 'news_20231211_162052_9']\n"
     ]
    }
   ],
   "source": [
    "print(create_id('news', 10))"
   ]
  },
  {
   "cell_type": "markdown",
   "id": "3b506d33",
   "metadata": {},
   "source": [
    "## 날짜 List 생성기"
   ]
  },
  {
   "cell_type": "code",
   "execution_count": 154,
   "id": "664ccf83",
   "metadata": {},
   "outputs": [],
   "source": [
    "from datetime import datetime\n",
    "\n",
    "# 날짜 리스트 생성\n",
    "def create_date_list(num):\n",
    "    date_list = []\n",
    "    for i in range(0, num):\n",
    "        date_list.append(datetime.today().strftime(\"%Y-%m-%d %H:%M:%S\"))\n",
    "    return date_list"
   ]
  },
  {
   "cell_type": "code",
   "execution_count": 155,
   "id": "1ff38ed7",
   "metadata": {},
   "outputs": [
    {
     "data": {
      "text/plain": [
       "['2023-12-11 16:20:54',\n",
       " '2023-12-11 16:20:54',\n",
       " '2023-12-11 16:20:54',\n",
       " '2023-12-11 16:20:54',\n",
       " '2023-12-11 16:20:54',\n",
       " '2023-12-11 16:20:54',\n",
       " '2023-12-11 16:20:54',\n",
       " '2023-12-11 16:20:54',\n",
       " '2023-12-11 16:20:54',\n",
       " '2023-12-11 16:20:54']"
      ]
     },
     "execution_count": 155,
     "metadata": {},
     "output_type": "execute_result"
    }
   ],
   "source": [
    "create_date_list(10)"
   ]
  },
  {
   "cell_type": "code",
   "execution_count": 156,
   "id": "d8051541",
   "metadata": {},
   "outputs": [],
   "source": [
    "# SQLAlchemy 엔진 생성\n",
    "engine = create_engine(f\"mysql+mysqlconnector://{config['user']}:{config['password']}@{config['host']}/{config['database']}\")"
   ]
  },
  {
   "cell_type": "code",
   "execution_count": 157,
   "id": "0e3cf5fd",
   "metadata": {},
   "outputs": [],
   "source": [
    "# Pandas DataFrame Insert\n",
    "import pandas as pd\n",
    "from sqlalchemy import create_engine as sqla"
   ]
  },
  {
   "cell_type": "markdown",
   "id": "fb9c9598",
   "metadata": {},
   "source": [
    "## INSERT"
   ]
  },
  {
   "cell_type": "code",
   "execution_count": 132,
   "id": "b3ff7564",
   "metadata": {},
   "outputs": [],
   "source": [
    "# Pandas DataFrame 생성 (예시 데이터)\n",
    "data_num = 2\n",
    "\n",
    "data = {'news_id': create_id('news', data_num), # 테스트용 ID 데이터\n",
    "        'news_doc': ['doc1', 'doc2'],\n",
    "        'estimate': ['30%', '40%'],         # 긍정 기준 % 를 넣을지, 부정 기준 % 를 넣을지는 팀원과 상의 필요\n",
    "        'url': ['url1', 'url2'],\n",
    "        'create_date': create_date_list(data_num),\n",
    "        'update_date': create_date_list(data_num)}\n",
    "\n",
    "df = pd.DataFrame(data)"
   ]
  },
  {
   "cell_type": "code",
   "execution_count": 133,
   "id": "4bd984a7",
   "metadata": {},
   "outputs": [
    {
     "data": {
      "text/plain": [
       "2"
      ]
     },
     "execution_count": 133,
     "metadata": {},
     "output_type": "execute_result"
    }
   ],
   "source": [
    "# DataFrame을 MySQL 테이블에 삽입\n",
    "table_name = 'news_data'\n",
    "df.to_sql(name=table_name, con=engine, if_exists='append', index=False)"
   ]
  },
  {
   "cell_type": "code",
   "execution_count": 134,
   "id": "e034c46d",
   "metadata": {},
   "outputs": [],
   "source": [
    "connection.commit()"
   ]
  },
  {
   "cell_type": "code",
   "execution_count": 135,
   "id": "8deeaa4e",
   "metadata": {},
   "outputs": [],
   "source": [
    "cursor.close()\n",
    "connection.close()"
   ]
  },
  {
   "cell_type": "markdown",
   "id": "cf2fa102",
   "metadata": {},
   "source": [
    "### 테이블이 없을 경우, 테이블을 생성하는 코드 : 예외처리 보험용"
   ]
  },
  {
   "cell_type": "code",
   "execution_count": 159,
   "id": "c4223aef",
   "metadata": {},
   "outputs": [],
   "source": [
    "# SQLAlchemy 엔진 생성\n",
    "# engine = create_engine(f\"mysql+mysqlconnector://{config['user']}:{config['password']}@{config['host']}/{config['database']}\")"
   ]
  },
  {
   "cell_type": "code",
   "execution_count": null,
   "id": "eb92effe",
   "metadata": {},
   "outputs": [],
   "source": [
    "# 테이블 생성 (컬럼 자료형 지정)\n",
    "create_table_query = '''\n",
    "CREATE TABLE NLP_G3.news_data\n",
    "(   news_id   \t\tVARCHAR(50)     PRIMARY KEY  NOT NULL,\n",
    "    news_doc  \t\tTEXT     \t\tNULL,\n",
    "    estimate   \t\tVARCHAR(5)      NULL,\n",
    "    url       \t\tVARCHAR(30)     NULL,\n",
    "    create_date     timestamp DEFAULT CURRENT_TIMESTAMP     NOT NULL,\n",
    "    update_date     timestamp DEFAULT CURRENT_TIMESTAMP     NOT NULL)\n",
    "'''"
   ]
  },
  {
   "cell_type": "code",
   "execution_count": null,
   "id": "38d2ad32",
   "metadata": {},
   "outputs": [],
   "source": [
    "engine.execute(create_table_query)"
   ]
  },
  {
   "cell_type": "markdown",
   "id": "40d8a25a",
   "metadata": {},
   "source": [
    "## SELECT"
   ]
  },
  {
   "cell_type": "markdown",
   "id": "16373207",
   "metadata": {},
   "source": [
    "### DataFrame 형태로 DB 정보 읽어오기"
   ]
  },
  {
   "cell_type": "code",
   "execution_count": 174,
   "id": "2bcf5b51",
   "metadata": {},
   "outputs": [],
   "source": [
    "query = 'select * from enterprise_data;'"
   ]
  },
  {
   "cell_type": "code",
   "execution_count": 175,
   "id": "d9c5e774",
   "metadata": {},
   "outputs": [],
   "source": [
    "# MySQL에서 데이터를 Pandas DataFrame으로 읽기\n",
    "df = pd.read_sql(query, engine)"
   ]
  },
  {
   "cell_type": "code",
   "execution_count": 177,
   "id": "d7a35cb3",
   "metadata": {},
   "outputs": [
    {
     "data": {
      "text/html": [
       "<div>\n",
       "<style scoped>\n",
       "    .dataframe tbody tr th:only-of-type {\n",
       "        vertical-align: middle;\n",
       "    }\n",
       "\n",
       "    .dataframe tbody tr th {\n",
       "        vertical-align: top;\n",
       "    }\n",
       "\n",
       "    .dataframe thead th {\n",
       "        text-align: right;\n",
       "    }\n",
       "</style>\n",
       "<table border=\"1\" class=\"dataframe\">\n",
       "  <thead>\n",
       "    <tr style=\"text-align: right;\">\n",
       "      <th></th>\n",
       "      <th>enter_id</th>\n",
       "      <th>enter_name</th>\n",
       "      <th>enter_type</th>\n",
       "      <th>create_date</th>\n",
       "      <th>update_date</th>\n",
       "    </tr>\n",
       "  </thead>\n",
       "  <tbody>\n",
       "    <tr>\n",
       "      <th>0</th>\n",
       "      <td>CH01</td>\n",
       "      <td>LG화학</td>\n",
       "      <td>화학</td>\n",
       "      <td>2023-12-08 07:20:34</td>\n",
       "      <td>2023-12-08 07:20:34</td>\n",
       "    </tr>\n",
       "    <tr>\n",
       "      <th>1</th>\n",
       "      <td>CH02</td>\n",
       "      <td>한화</td>\n",
       "      <td>화학</td>\n",
       "      <td>2023-12-08 07:20:35</td>\n",
       "      <td>2023-12-08 07:20:35</td>\n",
       "    </tr>\n",
       "    <tr>\n",
       "      <th>2</th>\n",
       "      <td>CH03</td>\n",
       "      <td>KCC</td>\n",
       "      <td>화학</td>\n",
       "      <td>2023-12-08 07:20:35</td>\n",
       "      <td>2023-12-08 07:20:35</td>\n",
       "    </tr>\n",
       "    <tr>\n",
       "      <th>3</th>\n",
       "      <td>CH04</td>\n",
       "      <td>삼성 화학</td>\n",
       "      <td>화학</td>\n",
       "      <td>2023-12-08 07:20:35</td>\n",
       "      <td>2023-12-08 07:20:35</td>\n",
       "    </tr>\n",
       "    <tr>\n",
       "      <th>4</th>\n",
       "      <td>CH05</td>\n",
       "      <td>아모레퍼시픽</td>\n",
       "      <td>화학</td>\n",
       "      <td>2023-12-08 07:20:36</td>\n",
       "      <td>2023-12-08 07:20:36</td>\n",
       "    </tr>\n",
       "    <tr>\n",
       "      <th>5</th>\n",
       "      <td>EN01</td>\n",
       "      <td>LG에너지솔루션</td>\n",
       "      <td>에너지</td>\n",
       "      <td>2023-12-08 07:20:38</td>\n",
       "      <td>2023-12-08 07:20:38</td>\n",
       "    </tr>\n",
       "    <tr>\n",
       "      <th>6</th>\n",
       "      <td>EN02</td>\n",
       "      <td>한전</td>\n",
       "      <td>에너지</td>\n",
       "      <td>2023-12-08 07:20:38</td>\n",
       "      <td>2023-12-08 07:20:38</td>\n",
       "    </tr>\n",
       "    <tr>\n",
       "      <th>7</th>\n",
       "      <td>EN03</td>\n",
       "      <td>SK이노베이션</td>\n",
       "      <td>에너지</td>\n",
       "      <td>2023-12-08 07:20:38</td>\n",
       "      <td>2023-12-08 07:20:38</td>\n",
       "    </tr>\n",
       "    <tr>\n",
       "      <th>8</th>\n",
       "      <td>EN04</td>\n",
       "      <td>현대오일뱅크</td>\n",
       "      <td>에너지</td>\n",
       "      <td>2023-12-08 07:20:39</td>\n",
       "      <td>2023-12-08 07:20:39</td>\n",
       "    </tr>\n",
       "    <tr>\n",
       "      <th>9</th>\n",
       "      <td>ER01</td>\n",
       "      <td>LH</td>\n",
       "      <td>건설</td>\n",
       "      <td>2023-12-08 07:20:36</td>\n",
       "      <td>2023-12-08 07:20:36</td>\n",
       "    </tr>\n",
       "    <tr>\n",
       "      <th>10</th>\n",
       "      <td>ER02</td>\n",
       "      <td>대우 건설</td>\n",
       "      <td>건설</td>\n",
       "      <td>2023-12-08 07:20:36</td>\n",
       "      <td>2023-12-08 07:20:36</td>\n",
       "    </tr>\n",
       "    <tr>\n",
       "      <th>11</th>\n",
       "      <td>ER03</td>\n",
       "      <td>현대 건설</td>\n",
       "      <td>건설</td>\n",
       "      <td>2023-12-08 07:20:37</td>\n",
       "      <td>2023-12-08 07:20:37</td>\n",
       "    </tr>\n",
       "    <tr>\n",
       "      <th>12</th>\n",
       "      <td>ER04</td>\n",
       "      <td>GS 건설</td>\n",
       "      <td>건설</td>\n",
       "      <td>2023-12-08 07:20:37</td>\n",
       "      <td>2023-12-08 07:20:37</td>\n",
       "    </tr>\n",
       "    <tr>\n",
       "      <th>13</th>\n",
       "      <td>ER05</td>\n",
       "      <td>포스코이엔씨</td>\n",
       "      <td>건설</td>\n",
       "      <td>2023-12-08 07:20:37</td>\n",
       "      <td>2023-12-08 07:20:37</td>\n",
       "    </tr>\n",
       "    <tr>\n",
       "      <th>14</th>\n",
       "      <td>IT01</td>\n",
       "      <td>네이버</td>\n",
       "      <td>IT</td>\n",
       "      <td>2023-12-08 07:20:32</td>\n",
       "      <td>2023-12-08 07:20:32</td>\n",
       "    </tr>\n",
       "    <tr>\n",
       "      <th>15</th>\n",
       "      <td>IT02</td>\n",
       "      <td>카카오</td>\n",
       "      <td>IT</td>\n",
       "      <td>2023-12-08 07:20:33</td>\n",
       "      <td>2023-12-08 07:20:33</td>\n",
       "    </tr>\n",
       "    <tr>\n",
       "      <th>16</th>\n",
       "      <td>IT03</td>\n",
       "      <td>라인</td>\n",
       "      <td>IT</td>\n",
       "      <td>2023-12-08 07:20:33</td>\n",
       "      <td>2023-12-08 07:20:33</td>\n",
       "    </tr>\n",
       "    <tr>\n",
       "      <th>17</th>\n",
       "      <td>IT04</td>\n",
       "      <td>쿠팡</td>\n",
       "      <td>IT</td>\n",
       "      <td>2023-12-08 07:20:33</td>\n",
       "      <td>2023-12-08 07:20:33</td>\n",
       "    </tr>\n",
       "    <tr>\n",
       "      <th>18</th>\n",
       "      <td>IT05</td>\n",
       "      <td>배달의민족</td>\n",
       "      <td>IT</td>\n",
       "      <td>2023-12-08 07:20:34</td>\n",
       "      <td>2023-12-08 07:20:34</td>\n",
       "    </tr>\n",
       "  </tbody>\n",
       "</table>\n",
       "</div>"
      ],
      "text/plain": [
       "   enter_id enter_name enter_type         create_date         update_date\n",
       "0      CH01       LG화학         화학 2023-12-08 07:20:34 2023-12-08 07:20:34\n",
       "1      CH02         한화         화학 2023-12-08 07:20:35 2023-12-08 07:20:35\n",
       "2      CH03        KCC         화학 2023-12-08 07:20:35 2023-12-08 07:20:35\n",
       "3      CH04      삼성 화학         화학 2023-12-08 07:20:35 2023-12-08 07:20:35\n",
       "4      CH05     아모레퍼시픽         화학 2023-12-08 07:20:36 2023-12-08 07:20:36\n",
       "5      EN01   LG에너지솔루션        에너지 2023-12-08 07:20:38 2023-12-08 07:20:38\n",
       "6      EN02         한전        에너지 2023-12-08 07:20:38 2023-12-08 07:20:38\n",
       "7      EN03    SK이노베이션        에너지 2023-12-08 07:20:38 2023-12-08 07:20:38\n",
       "8      EN04     현대오일뱅크        에너지 2023-12-08 07:20:39 2023-12-08 07:20:39\n",
       "9      ER01         LH         건설 2023-12-08 07:20:36 2023-12-08 07:20:36\n",
       "10     ER02      대우 건설         건설 2023-12-08 07:20:36 2023-12-08 07:20:36\n",
       "11     ER03      현대 건설         건설 2023-12-08 07:20:37 2023-12-08 07:20:37\n",
       "12     ER04      GS 건설         건설 2023-12-08 07:20:37 2023-12-08 07:20:37\n",
       "13     ER05     포스코이엔씨         건설 2023-12-08 07:20:37 2023-12-08 07:20:37\n",
       "14     IT01        네이버         IT 2023-12-08 07:20:32 2023-12-08 07:20:32\n",
       "15     IT02        카카오         IT 2023-12-08 07:20:33 2023-12-08 07:20:33\n",
       "16     IT03         라인         IT 2023-12-08 07:20:33 2023-12-08 07:20:33\n",
       "17     IT04         쿠팡         IT 2023-12-08 07:20:33 2023-12-08 07:20:33\n",
       "18     IT05      배달의민족         IT 2023-12-08 07:20:34 2023-12-08 07:20:34"
      ]
     },
     "execution_count": 177,
     "metadata": {},
     "output_type": "execute_result"
    }
   ],
   "source": [
    "df"
   ]
  },
  {
   "cell_type": "markdown",
   "id": "f8958a55",
   "metadata": {},
   "source": [
    "### text 형태로 DB 정보 읽어오기"
   ]
  },
  {
   "cell_type": "code",
   "execution_count": 166,
   "id": "44f04a8b",
   "metadata": {},
   "outputs": [],
   "source": [
    "# MySQL 쿼리 작성 (여기서는 모든 데이터를 가져오는 예제)\n",
    "query = \"SELECT * FROM NLP_G3.enterprise_data\""
   ]
  },
  {
   "cell_type": "code",
   "execution_count": 167,
   "id": "b7fe2685",
   "metadata": {},
   "outputs": [],
   "source": [
    "cursor.execute(query)"
   ]
  },
  {
   "cell_type": "code",
   "execution_count": 168,
   "id": "773b8db7",
   "metadata": {},
   "outputs": [
    {
     "name": "stdout",
     "output_type": "stream",
     "text": [
      "('CH01', 'LG화학', '화학', datetime.datetime(2023, 12, 8, 7, 20, 34), datetime.datetime(2023, 12, 8, 7, 20, 34))\n",
      "('CH02', '한화', '화학', datetime.datetime(2023, 12, 8, 7, 20, 35), datetime.datetime(2023, 12, 8, 7, 20, 35))\n",
      "('CH03', 'KCC', '화학', datetime.datetime(2023, 12, 8, 7, 20, 35), datetime.datetime(2023, 12, 8, 7, 20, 35))\n",
      "('CH04', '삼성 화학', '화학', datetime.datetime(2023, 12, 8, 7, 20, 35), datetime.datetime(2023, 12, 8, 7, 20, 35))\n",
      "('CH05', '아모레퍼시픽', '화학', datetime.datetime(2023, 12, 8, 7, 20, 36), datetime.datetime(2023, 12, 8, 7, 20, 36))\n",
      "('EN01', 'LG에너지솔루션', '에너지', datetime.datetime(2023, 12, 8, 7, 20, 38), datetime.datetime(2023, 12, 8, 7, 20, 38))\n",
      "('EN02', '한전', '에너지', datetime.datetime(2023, 12, 8, 7, 20, 38), datetime.datetime(2023, 12, 8, 7, 20, 38))\n",
      "('EN03', 'SK이노베이션', '에너지', datetime.datetime(2023, 12, 8, 7, 20, 38), datetime.datetime(2023, 12, 8, 7, 20, 38))\n",
      "('EN04', '현대오일뱅크', '에너지', datetime.datetime(2023, 12, 8, 7, 20, 39), datetime.datetime(2023, 12, 8, 7, 20, 39))\n",
      "('ER01', 'LH', '건설', datetime.datetime(2023, 12, 8, 7, 20, 36), datetime.datetime(2023, 12, 8, 7, 20, 36))\n",
      "('ER02', '대우 건설', '건설', datetime.datetime(2023, 12, 8, 7, 20, 36), datetime.datetime(2023, 12, 8, 7, 20, 36))\n",
      "('ER03', '현대 건설', '건설', datetime.datetime(2023, 12, 8, 7, 20, 37), datetime.datetime(2023, 12, 8, 7, 20, 37))\n",
      "('ER04', 'GS 건설', '건설', datetime.datetime(2023, 12, 8, 7, 20, 37), datetime.datetime(2023, 12, 8, 7, 20, 37))\n",
      "('ER05', '포스코이엔씨', '건설', datetime.datetime(2023, 12, 8, 7, 20, 37), datetime.datetime(2023, 12, 8, 7, 20, 37))\n",
      "('IT01', '네이버', 'IT', datetime.datetime(2023, 12, 8, 7, 20, 32), datetime.datetime(2023, 12, 8, 7, 20, 32))\n",
      "('IT02', '카카오', 'IT', datetime.datetime(2023, 12, 8, 7, 20, 33), datetime.datetime(2023, 12, 8, 7, 20, 33))\n",
      "('IT03', '라인', 'IT', datetime.datetime(2023, 12, 8, 7, 20, 33), datetime.datetime(2023, 12, 8, 7, 20, 33))\n",
      "('IT04', '쿠팡', 'IT', datetime.datetime(2023, 12, 8, 7, 20, 33), datetime.datetime(2023, 12, 8, 7, 20, 33))\n",
      "('IT05', '배달의민족', 'IT', datetime.datetime(2023, 12, 8, 7, 20, 34), datetime.datetime(2023, 12, 8, 7, 20, 34))\n"
     ]
    }
   ],
   "source": [
    "# 결과 출력하기\n",
    "result = cursor.fetchall()\n",
    "for row in result:\n",
    "    print(row)"
   ]
  },
  {
   "cell_type": "code",
   "execution_count": null,
   "id": "f281d9aa",
   "metadata": {},
   "outputs": [],
   "source": []
  }
 ],
 "metadata": {
  "kernelspec": {
   "display_name": "Python 3 (ipykernel)",
   "language": "python",
   "name": "python3"
  },
  "language_info": {
   "codemirror_mode": {
    "name": "ipython",
    "version": 3
   },
   "file_extension": ".py",
   "mimetype": "text/x-python",
   "name": "python",
   "nbconvert_exporter": "python",
   "pygments_lexer": "ipython3",
   "version": "3.11.5"
  }
 },
 "nbformat": 4,
 "nbformat_minor": 5
}
