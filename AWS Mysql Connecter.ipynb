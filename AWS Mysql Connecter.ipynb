{
 "cells": [
  {
   "cell_type": "code",
   "execution_count": 2,
   "id": "d7202d58",
   "metadata": {},
   "outputs": [
    {
     "name": "stdout",
     "output_type": "stream",
     "text": [
      "Collecting mysql-connector-python\n",
      "  Obtaining dependency information for mysql-connector-python from https://files.pythonhosted.org/packages/a7/84/b63f11124f808b6f1e3389072bc36cc907929d7574e85f94bf8f18117fe4/mysql_connector_python-8.2.0-cp311-cp311-win_amd64.whl.metadata\n",
      "  Downloading mysql_connector_python-8.2.0-cp311-cp311-win_amd64.whl.metadata (2.1 kB)\n",
      "Collecting protobuf<=4.21.12,>=4.21.1 (from mysql-connector-python)\n",
      "  Downloading protobuf-4.21.12-cp310-abi3-win_amd64.whl (527 kB)\n",
      "     ---------------------------------------- 0.0/527.0 kB ? eta -:--:--\n",
      "      --------------------------------------- 10.2/527.0 kB ? eta -:--:--\n",
      "     ------ -------------------------------- 92.2/527.0 kB 1.7 MB/s eta 0:00:01\n",
      "     ----------------------------------- -- 491.5/527.0 kB 5.1 MB/s eta 0:00:01\n",
      "     -------------------------------------- 527.0/527.0 kB 4.7 MB/s eta 0:00:00\n",
      "Downloading mysql_connector_python-8.2.0-cp311-cp311-win_amd64.whl (14.2 MB)\n",
      "   ---------------------------------------- 0.0/14.2 MB ? eta -:--:--\n",
      "   - -------------------------------------- 0.4/14.2 MB 8.3 MB/s eta 0:00:02\n",
      "   -- ------------------------------------- 0.9/14.2 MB 11.8 MB/s eta 0:00:02\n",
      "   ---- ----------------------------------- 1.5/14.2 MB 11.8 MB/s eta 0:00:02\n",
      "   ----- ---------------------------------- 2.0/14.2 MB 11.4 MB/s eta 0:00:02\n",
      "   ------- -------------------------------- 2.5/14.2 MB 11.4 MB/s eta 0:00:02\n",
      "   -------- ------------------------------- 3.1/14.2 MB 11.5 MB/s eta 0:00:01\n",
      "   ---------- ----------------------------- 3.6/14.2 MB 11.5 MB/s eta 0:00:01\n",
      "   ----------- ---------------------------- 4.1/14.2 MB 11.5 MB/s eta 0:00:01\n",
      "   ------------- -------------------------- 4.7/14.2 MB 11.5 MB/s eta 0:00:01\n",
      "   -------------- ------------------------- 5.2/14.2 MB 11.5 MB/s eta 0:00:01\n",
      "   ---------------- ----------------------- 5.7/14.2 MB 11.5 MB/s eta 0:00:01\n",
      "   ----------------- ---------------------- 6.3/14.2 MB 11.5 MB/s eta 0:00:01\n",
      "   ------------------- -------------------- 6.8/14.2 MB 11.5 MB/s eta 0:00:01\n",
      "   -------------------- ------------------- 7.4/14.2 MB 11.5 MB/s eta 0:00:01\n",
      "   ---------------------- ----------------- 7.9/14.2 MB 11.5 MB/s eta 0:00:01\n",
      "   ----------------------- ---------------- 8.5/14.2 MB 11.5 MB/s eta 0:00:01\n",
      "   ------------------------- -------------- 9.0/14.2 MB 11.5 MB/s eta 0:00:01\n",
      "   -------------------------- ------------- 9.6/14.2 MB 11.5 MB/s eta 0:00:01\n",
      "   ---------------------------- ----------- 10.1/14.2 MB 11.5 MB/s eta 0:00:01\n",
      "   ----------------------------- ---------- 10.6/14.2 MB 11.7 MB/s eta 0:00:01\n",
      "   ------------------------------- -------- 11.2/14.2 MB 11.7 MB/s eta 0:00:01\n",
      "   --------------------------------- ------ 11.8/14.2 MB 11.7 MB/s eta 0:00:01\n",
      "   ---------------------------------- ----- 12.3/14.2 MB 11.7 MB/s eta 0:00:01\n",
      "   ------------------------------------ --- 12.9/14.2 MB 11.7 MB/s eta 0:00:01\n",
      "   ------------------------------------- -- 13.4/14.2 MB 11.7 MB/s eta 0:00:01\n",
      "   ---------------------------------------  13.9/14.2 MB 11.7 MB/s eta 0:00:01\n",
      "   ---------------------------------------  14.2/14.2 MB 11.7 MB/s eta 0:00:01\n",
      "   ---------------------------------------- 14.2/14.2 MB 11.1 MB/s eta 0:00:00\n",
      "Installing collected packages: protobuf, mysql-connector-python\n",
      "  Attempting uninstall: protobuf\n",
      "    Found existing installation: protobuf 4.23.4\n",
      "    Uninstalling protobuf-4.23.4:\n",
      "      Successfully uninstalled protobuf-4.23.4\n",
      "Successfully installed mysql-connector-python-8.2.0 protobuf-4.21.12\n",
      "Note: you may need to restart the kernel to use updated packages.\n"
     ]
    }
   ],
   "source": [
    "pip install mysql-connector-python"
   ]
  },
  {
   "cell_type": "code",
   "execution_count": 3,
   "id": "a2106c27",
   "metadata": {},
   "outputs": [],
   "source": [
    "import mysql.connector"
   ]
  },
  {
   "cell_type": "code",
   "execution_count": 9,
   "id": "f26abb7d",
   "metadata": {},
   "outputs": [],
   "source": [
    "# MySQL 연결 설정\n",
    "config = {\n",
    "    'user': 'admin_ytk',\n",
    "    'password': 'tN8VnV1aBuDNvcnPWKgU',\n",
    "    'host': 'database-ytk.ctkg5u6wqxe6.us-east-2.rds.amazonaws.com',\n",
    "    'database': 'NLP_G3',\n",
    "    'raise_on_warnings': True\n",
    "}"
   ]
  },
  {
   "cell_type": "code",
   "execution_count": 10,
   "id": "3ad59ed8",
   "metadata": {},
   "outputs": [],
   "source": [
    "# MySQL 연결\n",
    "connection = mysql.connector.connect(**config)"
   ]
  },
  {
   "cell_type": "code",
   "execution_count": 12,
   "id": "3041fa22",
   "metadata": {},
   "outputs": [],
   "source": [
    "# 커서 생성\n",
    "cursor = connection.cursor()"
   ]
  },
  {
   "cell_type": "code",
   "execution_count": 15,
   "id": "ecfc763e",
   "metadata": {},
   "outputs": [],
   "source": [
    "query = 'select * from enterprise_data;'"
   ]
  },
  {
   "cell_type": "code",
   "execution_count": 16,
   "id": "12f2fa19",
   "metadata": {},
   "outputs": [],
   "source": [
    "cursor.execute(query)"
   ]
  },
  {
   "cell_type": "code",
   "execution_count": 17,
   "id": "7c8d9b92",
   "metadata": {},
   "outputs": [
    {
     "name": "stdout",
     "output_type": "stream",
     "text": [
      "('CH01', 'LG화학', '화학', datetime.datetime(2023, 12, 8, 7, 20, 34), datetime.datetime(2023, 12, 8, 7, 20, 34))\n",
      "('CH02', '한화', '화학', datetime.datetime(2023, 12, 8, 7, 20, 35), datetime.datetime(2023, 12, 8, 7, 20, 35))\n",
      "('CH03', 'KCC', '화학', datetime.datetime(2023, 12, 8, 7, 20, 35), datetime.datetime(2023, 12, 8, 7, 20, 35))\n",
      "('CH04', '삼성 화학', '화학', datetime.datetime(2023, 12, 8, 7, 20, 35), datetime.datetime(2023, 12, 8, 7, 20, 35))\n",
      "('CH05', '아모레퍼시픽', '화학', datetime.datetime(2023, 12, 8, 7, 20, 36), datetime.datetime(2023, 12, 8, 7, 20, 36))\n",
      "('EN01', 'LG에너지솔루션', '에너지', datetime.datetime(2023, 12, 8, 7, 20, 38), datetime.datetime(2023, 12, 8, 7, 20, 38))\n",
      "('EN02', '한전', '에너지', datetime.datetime(2023, 12, 8, 7, 20, 38), datetime.datetime(2023, 12, 8, 7, 20, 38))\n",
      "('EN03', 'SK이노베이션', '에너지', datetime.datetime(2023, 12, 8, 7, 20, 38), datetime.datetime(2023, 12, 8, 7, 20, 38))\n",
      "('EN04', '현대오일뱅크', '에너지', datetime.datetime(2023, 12, 8, 7, 20, 39), datetime.datetime(2023, 12, 8, 7, 20, 39))\n",
      "('ER01', 'LH', '건설', datetime.datetime(2023, 12, 8, 7, 20, 36), datetime.datetime(2023, 12, 8, 7, 20, 36))\n",
      "('ER02', '대우 건설', '건설', datetime.datetime(2023, 12, 8, 7, 20, 36), datetime.datetime(2023, 12, 8, 7, 20, 36))\n",
      "('ER03', '현대 건설', '건설', datetime.datetime(2023, 12, 8, 7, 20, 37), datetime.datetime(2023, 12, 8, 7, 20, 37))\n",
      "('ER04', 'GS 건설', '건설', datetime.datetime(2023, 12, 8, 7, 20, 37), datetime.datetime(2023, 12, 8, 7, 20, 37))\n",
      "('ER05', '포스코이엔씨', '건설', datetime.datetime(2023, 12, 8, 7, 20, 37), datetime.datetime(2023, 12, 8, 7, 20, 37))\n",
      "('IT01', '네이버', 'IT', datetime.datetime(2023, 12, 8, 7, 20, 32), datetime.datetime(2023, 12, 8, 7, 20, 32))\n",
      "('IT02', '카카오', 'IT', datetime.datetime(2023, 12, 8, 7, 20, 33), datetime.datetime(2023, 12, 8, 7, 20, 33))\n",
      "('IT03', '라인', 'IT', datetime.datetime(2023, 12, 8, 7, 20, 33), datetime.datetime(2023, 12, 8, 7, 20, 33))\n",
      "('IT04', '쿠팡', 'IT', datetime.datetime(2023, 12, 8, 7, 20, 33), datetime.datetime(2023, 12, 8, 7, 20, 33))\n",
      "('IT05', '배달의민족', 'IT', datetime.datetime(2023, 12, 8, 7, 20, 34), datetime.datetime(2023, 12, 8, 7, 20, 34))\n"
     ]
    }
   ],
   "source": [
    "# 결과 가져오기\n",
    "result = cursor.fetchall()\n",
    "for row in result:\n",
    "    print(row)"
   ]
  },
  {
   "cell_type": "code",
   "execution_count": null,
   "id": "0e3cf5fd",
   "metadata": {},
   "outputs": [],
   "source": []
  }
 ],
 "metadata": {
  "kernelspec": {
   "display_name": "Python 3 (ipykernel)",
   "language": "python",
   "name": "python3"
  },
  "language_info": {
   "codemirror_mode": {
    "name": "ipython",
    "version": 3
   },
   "file_extension": ".py",
   "mimetype": "text/x-python",
   "name": "python",
   "nbconvert_exporter": "python",
   "pygments_lexer": "ipython3",
   "version": "3.11.5"
  }
 },
 "nbformat": 4,
 "nbformat_minor": 5
}
