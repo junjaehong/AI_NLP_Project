{
 "cells": [
  {
   "cell_type": "code",
   "execution_count": 18,
   "id": "d7202d58",
   "metadata": {},
   "outputs": [],
   "source": [
    "# pip install mysql-connector-python"
   ]
  },
  {
   "cell_type": "code",
   "execution_count": 70,
   "id": "80849f9f",
   "metadata": {},
   "outputs": [
    {
     "name": "stdout",
     "output_type": "stream",
     "text": [
      "Requirement already satisfied: sqlalchemy in c:\\users\\qkfka.desktop-idahesg\\anaconda3\\lib\\site-packages (1.4.39)\n",
      "Requirement already satisfied: greenlet!=0.4.17 in c:\\users\\qkfka.desktop-idahesg\\anaconda3\\lib\\site-packages (from sqlalchemy) (2.0.1)\n"
     ]
    }
   ],
   "source": [
    "# !pip install sqlalchemy"
   ]
  },
  {
   "cell_type": "code",
   "execution_count": 19,
   "id": "a2106c27",
   "metadata": {},
   "outputs": [],
   "source": [
    "import mysql.connector"
   ]
  },
  {
   "cell_type": "code",
   "execution_count": 44,
   "id": "f26abb7d",
   "metadata": {},
   "outputs": [],
   "source": [
    "# MySQL 연결 설정\n",
    "config = {\n",
    "    'user': 'admin_ytk',\n",
    "    'password': 'tN8VnV1aBuDNvcnPWKgU',\n",
    "    'host': 'database-ytk.ctkg5u6wqxe6.us-east-2.rds.amazonaws.com',\n",
    "    'database': 'NLP_G3',\n",
    "    'raise_on_warnings': True\n",
    "}"
   ]
  },
  {
   "cell_type": "code",
   "execution_count": 122,
   "id": "3ad59ed8",
   "metadata": {},
   "outputs": [],
   "source": [
    "# MySQL 연결\n",
    "connection = mysql.connector.connect(**config)"
   ]
  },
  {
   "cell_type": "code",
   "execution_count": 123,
   "id": "3041fa22",
   "metadata": {},
   "outputs": [],
   "source": [
    "# 커서 생성\n",
    "cursor = connection.cursor()"
   ]
  },
  {
   "cell_type": "code",
   "execution_count": 124,
   "id": "ecfc763e",
   "metadata": {},
   "outputs": [],
   "source": [
    "query = 'select * from enterprise_data;'"
   ]
  },
  {
   "cell_type": "code",
   "execution_count": 125,
   "id": "12f2fa19",
   "metadata": {},
   "outputs": [],
   "source": [
    "cursor.execute(query)"
   ]
  },
  {
   "cell_type": "code",
   "execution_count": 126,
   "id": "7c8d9b92",
   "metadata": {},
   "outputs": [
    {
     "name": "stdout",
     "output_type": "stream",
     "text": [
      "('CH01', 'LG화학', '화학', datetime.datetime(2023, 12, 8, 7, 20, 34), datetime.datetime(2023, 12, 8, 7, 20, 34))\n",
      "('CH02', '한화', '화학', datetime.datetime(2023, 12, 8, 7, 20, 35), datetime.datetime(2023, 12, 8, 7, 20, 35))\n",
      "('CH03', 'KCC', '화학', datetime.datetime(2023, 12, 8, 7, 20, 35), datetime.datetime(2023, 12, 8, 7, 20, 35))\n",
      "('CH04', '삼성 화학', '화학', datetime.datetime(2023, 12, 8, 7, 20, 35), datetime.datetime(2023, 12, 8, 7, 20, 35))\n",
      "('CH05', '아모레퍼시픽', '화학', datetime.datetime(2023, 12, 8, 7, 20, 36), datetime.datetime(2023, 12, 8, 7, 20, 36))\n",
      "('EN01', 'LG에너지솔루션', '에너지', datetime.datetime(2023, 12, 8, 7, 20, 38), datetime.datetime(2023, 12, 8, 7, 20, 38))\n",
      "('EN02', '한전', '에너지', datetime.datetime(2023, 12, 8, 7, 20, 38), datetime.datetime(2023, 12, 8, 7, 20, 38))\n",
      "('EN03', 'SK이노베이션', '에너지', datetime.datetime(2023, 12, 8, 7, 20, 38), datetime.datetime(2023, 12, 8, 7, 20, 38))\n",
      "('EN04', '현대오일뱅크', '에너지', datetime.datetime(2023, 12, 8, 7, 20, 39), datetime.datetime(2023, 12, 8, 7, 20, 39))\n",
      "('ER01', 'LH', '건설', datetime.datetime(2023, 12, 8, 7, 20, 36), datetime.datetime(2023, 12, 8, 7, 20, 36))\n",
      "('ER02', '대우 건설', '건설', datetime.datetime(2023, 12, 8, 7, 20, 36), datetime.datetime(2023, 12, 8, 7, 20, 36))\n",
      "('ER03', '현대 건설', '건설', datetime.datetime(2023, 12, 8, 7, 20, 37), datetime.datetime(2023, 12, 8, 7, 20, 37))\n",
      "('ER04', 'GS 건설', '건설', datetime.datetime(2023, 12, 8, 7, 20, 37), datetime.datetime(2023, 12, 8, 7, 20, 37))\n",
      "('ER05', '포스코이엔씨', '건설', datetime.datetime(2023, 12, 8, 7, 20, 37), datetime.datetime(2023, 12, 8, 7, 20, 37))\n",
      "('IT01', '네이버', 'IT', datetime.datetime(2023, 12, 8, 7, 20, 32), datetime.datetime(2023, 12, 8, 7, 20, 32))\n",
      "('IT02', '카카오', 'IT', datetime.datetime(2023, 12, 8, 7, 20, 33), datetime.datetime(2023, 12, 8, 7, 20, 33))\n",
      "('IT03', '라인', 'IT', datetime.datetime(2023, 12, 8, 7, 20, 33), datetime.datetime(2023, 12, 8, 7, 20, 33))\n",
      "('IT04', '쿠팡', 'IT', datetime.datetime(2023, 12, 8, 7, 20, 33), datetime.datetime(2023, 12, 8, 7, 20, 33))\n",
      "('IT05', '배달의민족', 'IT', datetime.datetime(2023, 12, 8, 7, 20, 34), datetime.datetime(2023, 12, 8, 7, 20, 34))\n"
     ]
    }
   ],
   "source": [
    "# 결과 출력하기\n",
    "result = cursor.fetchall()\n",
    "for row in result:\n",
    "    print(row)"
   ]
  },
  {
   "cell_type": "code",
   "execution_count": 127,
   "id": "d8e35ca1",
   "metadata": {},
   "outputs": [],
   "source": [
    "from datetime import datetime\n",
    "\n",
    "# ID 생성기\n",
    "def create_id(id_type, id_num):\n",
    "    id_list = []\n",
    "    \n",
    "    for num in range(0, id_num):\n",
    "        id_list.append('{0}_{1}'.format(id_type + datetime.today().strftime(\"_%Y%m%d_%H%M%S\"), num))\n",
    "    \n",
    "    return id_list"
   ]
  },
  {
   "cell_type": "code",
   "execution_count": 128,
   "id": "a45dbef3",
   "metadata": {},
   "outputs": [
    {
     "name": "stdout",
     "output_type": "stream",
     "text": [
      "['news_20231211_115843_0', 'news_20231211_115843_1', 'news_20231211_115843_2', 'news_20231211_115843_3', 'news_20231211_115843_4', 'news_20231211_115843_5', 'news_20231211_115843_6', 'news_20231211_115843_7', 'news_20231211_115843_8', 'news_20231211_115843_9']\n"
     ]
    }
   ],
   "source": [
    "print(create_id('news', 10))"
   ]
  },
  {
   "cell_type": "code",
   "execution_count": 129,
   "id": "d97e4147",
   "metadata": {},
   "outputs": [],
   "source": [
    "from datetime import datetime\n",
    "\n",
    "# 날짜 리스트 생성\n",
    "def create_date_list(num):\n",
    "    date_list = []\n",
    "    for i in range(0, num):\n",
    "        date_list.append(datetime.today().strftime(\"%Y-%m-%d %H:%M:%S\"))\n",
    "    return date_list"
   ]
  },
  {
   "cell_type": "code",
   "execution_count": 130,
   "id": "57b406e6",
   "metadata": {},
   "outputs": [
    {
     "data": {
      "text/plain": [
       "['2023-12-11 11:58:45',\n",
       " '2023-12-11 11:58:45',\n",
       " '2023-12-11 11:58:45',\n",
       " '2023-12-11 11:58:45',\n",
       " '2023-12-11 11:58:45',\n",
       " '2023-12-11 11:58:45',\n",
       " '2023-12-11 11:58:45',\n",
       " '2023-12-11 11:58:45',\n",
       " '2023-12-11 11:58:45',\n",
       " '2023-12-11 11:58:45']"
      ]
     },
     "execution_count": 130,
     "metadata": {},
     "output_type": "execute_result"
    }
   ],
   "source": [
    "create_date_list(10)"
   ]
  },
  {
   "cell_type": "code",
   "execution_count": 131,
   "id": "0e3cf5fd",
   "metadata": {},
   "outputs": [],
   "source": [
    "# Pandas DataFrame Insert\n",
    "import pandas as pd\n",
    "from sqlalchemy import create_engine as sqla"
   ]
  },
  {
   "cell_type": "code",
   "execution_count": 132,
   "id": "d088d579",
   "metadata": {},
   "outputs": [],
   "source": [
    "# Pandas DataFrame 생성 (예시 데이터)\n",
    "data_num = 2\n",
    "\n",
    "data = {'news_id': create_id('news', data_num), # 테스트용 ID 데이터\n",
    "        'news_doc': ['doc1', 'doc2'],\n",
    "        'estimate': ['30%', '40%'],         # 긍정 기준 % 를 넣을지, 부정 기준 % 를 넣을지는 팀원과 상의 필요\n",
    "        'url': ['url1', 'url2'],\n",
    "        'create_date': create_date_list(data_num),\n",
    "        'update_date': create_date_list(data_num)}\n",
    "\n",
    "df = pd.DataFrame(data)"
   ]
  },
  {
   "cell_type": "code",
   "execution_count": 133,
   "id": "2ad70607",
   "metadata": {},
   "outputs": [
    {
     "data": {
      "text/plain": [
       "2"
      ]
     },
     "execution_count": 133,
     "metadata": {},
     "output_type": "execute_result"
    }
   ],
   "source": [
    "# DataFrame을 MySQL 테이블에 삽입\n",
    "table_name = 'news_data'\n",
    "df.to_sql(name=table_name, con=engine, if_exists='append', index=False)"
   ]
  },
  {
   "cell_type": "code",
   "execution_count": 134,
   "id": "2227e2ea",
   "metadata": {},
   "outputs": [],
   "source": [
    "connection.commit()"
   ]
  },
  {
   "cell_type": "code",
   "execution_count": 121,
   "id": "e76d1d61",
   "metadata": {},
   "outputs": [],
   "source": [
    "cursor.close()\n",
    "connection.close()"
   ]
  },
  {
   "cell_type": "markdown",
   "id": "3e266baf",
   "metadata": {},
   "source": [
    "### 테이블이 없을 경우, 테이블을 생성하는 코드 : 예외처리 보험용"
   ]
  },
  {
   "cell_type": "code",
   "execution_count": 40,
   "id": "dd8ba826",
   "metadata": {},
   "outputs": [],
   "source": [
    "# SQLAlchemy 엔진 생성\n",
    "engine = create_engine(f\"mysql+mysqlconnector://{config['user']}:{config['password']}@{config['host']}/{config['database']}\")"
   ]
  },
  {
   "cell_type": "code",
   "execution_count": null,
   "id": "cc330381",
   "metadata": {},
   "outputs": [],
   "source": [
    "# 테이블 생성 (컬럼 자료형 지정)\n",
    "create_table_query = '''\n",
    "CREATE TABLE NLP_G3.news_data\n",
    "(   news_id   \t\tVARCHAR(50)     PRIMARY KEY  NOT NULL,\n",
    "    news_doc  \t\tTEXT     \t\tNULL,\n",
    "    estimate   \t\tVARCHAR(5)      NULL,\n",
    "    url       \t\tVARCHAR(30)     NULL,\n",
    "    create_date     timestamp DEFAULT CURRENT_TIMESTAMP     NOT NULL,\n",
    "    update_date     timestamp DEFAULT CURRENT_TIMESTAMP     NOT NULL)\n",
    "'''"
   ]
  },
  {
   "cell_type": "code",
   "execution_count": null,
   "id": "fd8c6a0a",
   "metadata": {},
   "outputs": [],
   "source": [
    "engine.execute(create_table_query)"
   ]
  },
  {
   "cell_type": "code",
   "execution_count": null,
   "id": "ce97e3fd",
   "metadata": {},
   "outputs": [],
   "source": []
  },
  {
   "cell_type": "code",
   "execution_count": null,
   "id": "2aefaad2",
   "metadata": {},
   "outputs": [],
   "source": []
  }
 ],
 "metadata": {
  "kernelspec": {
   "display_name": "Python 3 (ipykernel)",
   "language": "python",
   "name": "python3"
  },
  "language_info": {
   "codemirror_mode": {
    "name": "ipython",
    "version": 3
   },
   "file_extension": ".py",
   "mimetype": "text/x-python",
   "name": "python",
   "nbconvert_exporter": "python",
   "pygments_lexer": "ipython3",
   "version": "3.11.5"
  }
 },
 "nbformat": 4,
 "nbformat_minor": 5
}
