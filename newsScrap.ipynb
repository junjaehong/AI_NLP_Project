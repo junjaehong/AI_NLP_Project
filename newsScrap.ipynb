{
 "cells": [
  {
   "cell_type": "code",
   "execution_count": 26,
   "id": "12f58be9",
   "metadata": {},
   "outputs": [],
   "source": [
    "import requests\n",
    "from bs4 import BeautifulSoup\n",
    "import pandas as pd\n",
    "from datetime import datetime\n",
    "import time\n",
    "import re\n",
    "import mysql.connector\n",
    "import pymysql"
   ]
  },
  {
   "cell_type": "code",
   "execution_count": 44,
   "id": "b0d5cd55",
   "metadata": {},
   "outputs": [],
   "source": [
    "class newsScrap :\n",
    "    \n",
    "    headers = {\"User-Agent\":\"Mozilla/5.0 (Windows NT 10.0; Win64; x64) AppleWebKit/537.36 (KHTML, like Gecko) Chrome/118.0.0.0 Safari/537.36\"}\n",
    "    \n",
    "    def __init__(self, company):\n",
    "        self.company = company\n",
    "        self.titles = []\n",
    "        self.dates = []\n",
    "        self.articles = []\n",
    "        self.article_urls = []\n",
    "        self.press_companies = []\n",
    "        \n",
    "    def createNewsLinks(self):\n",
    "        start_point = 1\n",
    "        while True :\n",
    "            #pd => 4=1일 , 2= 1달\n",
    "            url = 'https://search.naver.com/search.naver?where=news&query='+ str(self.company) + '&sm=tab_opt&sort=1&photo=0&field=0&pd=4&start=' + str(start_point)\n",
    "            web = requests.get(url).content\n",
    "            source = BeautifulSoup(web, 'html.parser')\n",
    "            \n",
    "            for urls in source.find_all('a', {'class' : \"info\"}):\n",
    "                if urls[\"href\"].startswith(\"https://n.news.naver.com\"):\n",
    "                    self.article_urls.append(urls[\"href\"])\n",
    "#                     print(urls[\"href\"])\n",
    "            is_last_page = source.find('a',{'class':'btn_next'}).get('aria-disabled')\n",
    "            if is_last_page == \"true\":\n",
    "#                 print(\"last page\")\n",
    "                break\n",
    "            else:\n",
    "                time.sleep(1)\n",
    "                start_point += 10\n",
    "                \n",
    "                    \n",
    "    def newsDataScrap(self):\n",
    "        for url in self.article_urls:\n",
    "            try:\n",
    "                web_news = requests.get(url, headers=self.headers).content\n",
    "                source_news = BeautifulSoup(web_news, 'html.parser')\n",
    "\n",
    "                title = source_news.find('h2', {'class' : 'media_end_head_headline'}).get_text()\n",
    "\n",
    "                date = source_news.find('span', {'class' : 'media_end_head_info_datestamp_time'}).get_text()\n",
    "\n",
    "                article = source_news.find('div', {'id' : 'newsct_article'}).get_text()\n",
    "                article = article.replace(\"\\n\", \"\")\n",
    "                article = article.replace(\"// flash 오류를 우회하기 위한 함수 추가function _flash_removeCallback() {}\", \"\")\n",
    "                article = article.replace(\"동영상 뉴스       \", \"\")\n",
    "                article = article.replace(\"동영상 뉴스\", \"\")\n",
    "                article = article.strip()\n",
    "\n",
    "                press_company = source_news.find('em', {'class':'media_end_linked_more_point'}).get_text()\n",
    "                \n",
    "            \n",
    "                self.titles.append(title)\n",
    "                self.dates.append(date)\n",
    "                self.articles.append(article)\n",
    "                self.press_companies.append(press_company)\n",
    "            except:\n",
    "                pass\n",
    "            \n",
    "            \n",
    "            \n",
    "    def saveExcel(self):\n",
    "        article_df = pd.DataFrame({'Title':self.titles, \n",
    "                                   'Date':self.dates, \n",
    "                                   'Article':self.articles, \n",
    "                                   'URL':self.article_urls, \n",
    "                                   'PressCompany':self.press_companies})\n",
    "        article_df.to_excel('{}_{}.xlsx'.format(self.company, datetime.now().strftime('%y%m%d_%H%M')), index=False)\n",
    "        \n",
    "        \n",
    "    def dbUpdater(self):\n",
    "        config = {'user': 'admin_ytk',\n",
    "                'password': 'tN8VnV1aBuDNvcnPWKgU',\n",
    "                'host': 'database-ytk.ctkg5u6wqxe6.us-east-2.rds.amazonaws.com',\n",
    "                'database': 'NLP_G3',\n",
    "                'raise_on_warnings': True}\n",
    "        \n",
    "        cnn = pymysql.connect(host='database-ytk.ctkg5u6wqxe6.us-east-2.rds.amazonaws.com', \n",
    "                              user='admin_ytk', password='tN8VnV1aBuDNvcnPWKgU',db='NLP_G3')\n",
    "        querys_data = []\n",
    "        \n",
    "        cur = cnn.cursor()\n",
    "        \n",
    "        #테이블에 맞춰 항목 추가 예정 \n",
    "        for i in range(len(self.article_urls)):\n",
    "            data = (i, self.titles[i], self.dates[i], self.articles[i], self.press_companies[i],self.article_urls[i])\n",
    "            querys_data.append(data)\n",
    "        \n",
    "        query = 'INSERT INTO news_data VALUES (%s, %s, %s, %s, %s, %s)'\n",
    "        #query = \"INSERT INTO test (name, City) VALUES (%s, %s)\"\n",
    "        \n",
    "        for i in querys_data:\n",
    "            cur.execute(query, i)\n",
    "        \n",
    "        cnn.commit()\n",
    "        cur.close()\n",
    "        cnn.close()"
   ]
  },
  {
   "cell_type": "code",
   "execution_count": 45,
   "id": "a2599e49",
   "metadata": {},
   "outputs": [],
   "source": [
    "test = newsScrap('롯데백화점')"
   ]
  },
  {
   "cell_type": "code",
   "execution_count": 46,
   "id": "c070f77e",
   "metadata": {},
   "outputs": [],
   "source": [
    "test.createNewsLinks()"
   ]
  },
  {
   "cell_type": "code",
   "execution_count": 47,
   "id": "6e527ab8",
   "metadata": {},
   "outputs": [
    {
     "data": {
      "text/plain": [
       "['https://n.news.naver.com/mnews/article/014/0005114067?sid=101',\n",
       " 'https://n.news.naver.com/mnews/article/215/0001138913?sid=101',\n",
       " 'https://n.news.naver.com/mnews/article/009/0005229278?sid=103',\n",
       " 'https://n.news.naver.com/mnews/article/021/0002610424?sid=101',\n",
       " 'https://n.news.naver.com/mnews/article/008/0004973298?sid=101',\n",
       " 'https://n.news.naver.com/mnews/article/081/0003416110?sid=102',\n",
       " 'https://n.news.naver.com/mnews/article/658/0000060481?sid=101',\n",
       " 'https://n.news.naver.com/mnews/article/025/0003328036?sid=101',\n",
       " 'https://n.news.naver.com/mnews/article/081/0003416047?sid=101',\n",
       " 'https://n.news.naver.com/mnews/article/025/0003327977?sid=101',\n",
       " 'https://n.news.naver.com/mnews/article/008/0004973165?sid=101',\n",
       " 'https://n.news.naver.com/mnews/article/081/0003416013?sid=102',\n",
       " 'https://n.news.naver.com/mnews/article/417/0000968463?sid=101',\n",
       " 'https://n.news.naver.com/mnews/article/029/0002842776?sid=101',\n",
       " 'https://n.news.naver.com/mnews/article/009/0005228784?sid=103',\n",
       " 'https://n.news.naver.com/mnews/article/417/0000968393?sid=102']"
      ]
     },
     "execution_count": 47,
     "metadata": {},
     "output_type": "execute_result"
    }
   ],
   "source": [
    "test.article_urls"
   ]
  },
  {
   "cell_type": "code",
   "execution_count": 48,
   "id": "eda592a4",
   "metadata": {},
   "outputs": [],
   "source": [
    "test.newsDataScrap()"
   ]
  },
  {
   "cell_type": "code",
   "execution_count": 49,
   "id": "80b7a890",
   "metadata": {},
   "outputs": [
    {
     "data": {
      "text/plain": [
       "['이문•휘경뉴타운\\xa0최대규모…더블\\xa0역세권,\\xa0생활\\xa0인프라\\xa0이용\\xa0수월 이문 아이파크 자이 투시도_  HDC현대산업개발과 GS건설의 ‘이문 아이파크 자이’가 무순위 청약을 진행한다.   HDC현대산업개발과 GS건설은 오는 15일(금) 서울 동대문구 이문휘경뉴타운 이문3구역의 이문 아이파크 자이 일부 잔여가구를 대상으로 무순위 청약을 받는다. 이번 청약은 이문 아이파크 자이 공식 분양 홈페이지에서 오전 9시~오후 5시까지 진행한다.   누구나 청약신청이 가능하다. 현재 국내에 거주하는 만 19세 이상 또는 세대주인 미성년자(자녀양육, 형제자매부양)이면 거주지와 상관 없이 누구나 청약신청이 가능하다. 여기에 청약통장이 필요하지 않고, 실거주 의무도 없다. 다만, 이문 아이파크 자이 계약을 체결한 자 또는 당첨된 후 계약을 체결하지 않은 자, 부적격 당첨자로 그 제한기간 중에 있는 자 등은 청약신청이 불가하다.   이번 무순위 청약 당첨자 발표는 청약당일인 15일(금)이며, 계약은 19일(화) 견본주택에서 진행한다.   한편, ‘이문 아이파크 자이’는 지하 6층~지상 최고 41층 25개동 총 4321가구 규모로 이중 전용면적 20~102㎡ 총 1467가구가 일반에 공급됐다.   지하철을 걸어서 이용할 수 있는 데다가 자연환경 또한 누릴 수 있다는 설명이다. 서울지하철 1호선 외대앞역 초역세권인데다 서울 지하철 1호선 신이문역도 걸어서 이용할 수 있다. 천장산과 중랑천 등을 걸어서 이용할 수 있어 여가활동은 물론 쾌적한 주거생활이 가능하다. 특히 3단지는 천장산을 품고 있는 도심 숲세권 단지로 쾌적하고 여유로운 주거 라이프를 누릴 수 있는 것이 특징이다.   교육환경도 눈길을 끈다. 이문초, 석관중, 석관고, 경희중, 경희고 등 각급학교가 도보권에 위치해 있어 자녀들의 안전한 통학이 가능하고, 인근으로 한국외대, 경희대, 한예종, 카이스트 서울캠퍼스 등이 밀집해 있다. 또한 롯데백화점 청량리점, 코스트코 상봉점, 홈플러스 상봉점, 이마트 묵동점 등 대형 유통시설이 가까이 있고, 경희의료원, 삼육서울병원, 이문체육문화센터, 이문 어린이도서관, 주민센터 등 각종 편의∙의료 인프라도 풍부하다.   이문 아이파크 자이 견본주택은 서울시 동대문구 이문동 일원에 위치해 있으며, 입주는 1,2단지가 2025년 11월, 3단지가 2026년 5월 예정이다.',\n",
       " '이문·휘경뉴타운 최대 규모로 조성되는 ‘이문 아이파크 자이’가 무순위 청약을 진행한다.HDC현대산업개발과 GS건설은 오는 15일, 서울 동대문구 이문휘경뉴타운 이문3구역의 이문 아이파크 자이 일부 잔여가구를 대상으로 무순위 청약을 받는다. 이번 청약은 이문 아이파크 자이 공식 분양 홈페이지에서 오전 9시~오후 5시까지 진행한다.자격요건은 현재 국내에 거주하는 만 19세 이상 또는 세대주인 미성년자(자녀양육, 형제자매부양)이면 거주지와 상관 없이 누구나 청약신청이 가능하다. 여기에 청약통장이 필요하지 않고, 실거주 의무도 없다. 다만, 이문 아이파크 자이 계약을 체결한 자 또는 당첨된 후 계약을 체결하지 않은 자, 부적격 당첨자로 그 제한기간 중에 있는 자 등은 청약신청이 불가하다.이번 무순위 청약 당첨자 발표는 청약당일인 15일(금)이며, 계약은 19일(화) 견본주택에서 진행한다.한편, ‘이문 아이파크 자이’는 지하 6층~지상 최고 41층 25개동 총 4321가구의 랜드마크급 규모로 이중 전용면적 20~102㎡ 총 1467가구가 일반에 공급됐다.서울지하철 1호선 외대앞역 초역세권인데다 서울 지하철 1호선 신이문역도 걸어서 이용할 수 있다. 천장산과 중랑천 등을 걸어서 이용할 수 있어 여가활동은 물론 쾌적한 주거생활이 가능하다. 특히 3단지는 천장산을 품고 있는 도심 숲세권 단지로 쾌적하고 여유로운 주거 라이프를 누릴 수 있는 것이 특징이다.교육환경도 우수하다. 이문초, 석관중, 석관고, 경희중, 경희고 등 각급학교가 도보권에 위치해 있어 자녀들의 안전한 통학이 가능하고, 인근으로 한국외대, 경희대, 한예종, 카이스트 서울캠퍼스 등이 밀집해 있다.또한 롯데백화점 청량리점, 코스트코 상봉점, 홈플러스 상봉점, 이마트 묵동점 등 대형 유통시설이 가까이 있고, 경희의료원, 삼육서울병원, 이문체육문화센터, 이문 어린이도서관, 주민센터 등 각종 편의·의료 인프라도 풍부하다. 입주는 1,2단지가 2025년 11월, 3단지가 2026년 5월 예정이다.']"
      ]
     },
     "execution_count": 49,
     "metadata": {},
     "output_type": "execute_result"
    }
   ],
   "source": [
    "test.articles[0:2]"
   ]
  },
  {
   "cell_type": "code",
   "execution_count": 50,
   "id": "3b6760c3",
   "metadata": {},
   "outputs": [
    {
     "ename": "IntegrityError",
     "evalue": "(1452, 'Cannot add or update a child row: a foreign key constraint fails (`NLP_G3`.`news_data`, CONSTRAINT `fk_enter_id` FOREIGN KEY (`enter_id`) REFERENCES `enterprise_data` (`enter_id`))')",
     "output_type": "error",
     "traceback": [
      "\u001b[0;31m---------------------------------------------------------------------------\u001b[0m",
      "\u001b[0;31mIntegrityError\u001b[0m                            Traceback (most recent call last)",
      "Cell \u001b[0;32mIn[50], line 1\u001b[0m\n\u001b[0;32m----> 1\u001b[0m \u001b[43mtest\u001b[49m\u001b[38;5;241;43m.\u001b[39;49m\u001b[43mdbUpdater\u001b[49m\u001b[43m(\u001b[49m\u001b[43m)\u001b[49m\n",
      "Cell \u001b[0;32mIn[44], line 95\u001b[0m, in \u001b[0;36mnewsScrap.dbUpdater\u001b[0;34m(self)\u001b[0m\n\u001b[1;32m     92\u001b[0m \u001b[38;5;66;03m#query = \"INSERT INTO test (name, City) VALUES (%s, %s)\"\u001b[39;00m\n\u001b[1;32m     94\u001b[0m \u001b[38;5;28;01mfor\u001b[39;00m i \u001b[38;5;129;01min\u001b[39;00m querys_data:\n\u001b[0;32m---> 95\u001b[0m     \u001b[43mcur\u001b[49m\u001b[38;5;241;43m.\u001b[39;49m\u001b[43mexecute\u001b[49m\u001b[43m(\u001b[49m\u001b[43mquery\u001b[49m\u001b[43m,\u001b[49m\u001b[43m \u001b[49m\u001b[43mi\u001b[49m\u001b[43m)\u001b[49m\n\u001b[1;32m     97\u001b[0m cnn\u001b[38;5;241m.\u001b[39mcommit()\n\u001b[1;32m     98\u001b[0m cur\u001b[38;5;241m.\u001b[39mclose()\n",
      "File \u001b[0;32m~/anaconda3/envs/AI_NLP/lib/python3.8/site-packages/pymysql/cursors.py:153\u001b[0m, in \u001b[0;36mCursor.execute\u001b[0;34m(self, query, args)\u001b[0m\n\u001b[1;32m    149\u001b[0m     \u001b[38;5;28;01mpass\u001b[39;00m\n\u001b[1;32m    151\u001b[0m query \u001b[38;5;241m=\u001b[39m \u001b[38;5;28mself\u001b[39m\u001b[38;5;241m.\u001b[39mmogrify(query, args)\n\u001b[0;32m--> 153\u001b[0m result \u001b[38;5;241m=\u001b[39m \u001b[38;5;28;43mself\u001b[39;49m\u001b[38;5;241;43m.\u001b[39;49m\u001b[43m_query\u001b[49m\u001b[43m(\u001b[49m\u001b[43mquery\u001b[49m\u001b[43m)\u001b[49m\n\u001b[1;32m    154\u001b[0m \u001b[38;5;28mself\u001b[39m\u001b[38;5;241m.\u001b[39m_executed \u001b[38;5;241m=\u001b[39m query\n\u001b[1;32m    155\u001b[0m \u001b[38;5;28;01mreturn\u001b[39;00m result\n",
      "File \u001b[0;32m~/anaconda3/envs/AI_NLP/lib/python3.8/site-packages/pymysql/cursors.py:322\u001b[0m, in \u001b[0;36mCursor._query\u001b[0;34m(self, q)\u001b[0m\n\u001b[1;32m    320\u001b[0m conn \u001b[38;5;241m=\u001b[39m \u001b[38;5;28mself\u001b[39m\u001b[38;5;241m.\u001b[39m_get_db()\n\u001b[1;32m    321\u001b[0m \u001b[38;5;28mself\u001b[39m\u001b[38;5;241m.\u001b[39m_clear_result()\n\u001b[0;32m--> 322\u001b[0m \u001b[43mconn\u001b[49m\u001b[38;5;241;43m.\u001b[39;49m\u001b[43mquery\u001b[49m\u001b[43m(\u001b[49m\u001b[43mq\u001b[49m\u001b[43m)\u001b[49m\n\u001b[1;32m    323\u001b[0m \u001b[38;5;28mself\u001b[39m\u001b[38;5;241m.\u001b[39m_do_get_result()\n\u001b[1;32m    324\u001b[0m \u001b[38;5;28;01mreturn\u001b[39;00m \u001b[38;5;28mself\u001b[39m\u001b[38;5;241m.\u001b[39mrowcount\n",
      "File \u001b[0;32m~/anaconda3/envs/AI_NLP/lib/python3.8/site-packages/pymysql/connections.py:558\u001b[0m, in \u001b[0;36mConnection.query\u001b[0;34m(self, sql, unbuffered)\u001b[0m\n\u001b[1;32m    556\u001b[0m     sql \u001b[38;5;241m=\u001b[39m sql\u001b[38;5;241m.\u001b[39mencode(\u001b[38;5;28mself\u001b[39m\u001b[38;5;241m.\u001b[39mencoding, \u001b[38;5;124m\"\u001b[39m\u001b[38;5;124msurrogateescape\u001b[39m\u001b[38;5;124m\"\u001b[39m)\n\u001b[1;32m    557\u001b[0m \u001b[38;5;28mself\u001b[39m\u001b[38;5;241m.\u001b[39m_execute_command(COMMAND\u001b[38;5;241m.\u001b[39mCOM_QUERY, sql)\n\u001b[0;32m--> 558\u001b[0m \u001b[38;5;28mself\u001b[39m\u001b[38;5;241m.\u001b[39m_affected_rows \u001b[38;5;241m=\u001b[39m \u001b[38;5;28;43mself\u001b[39;49m\u001b[38;5;241;43m.\u001b[39;49m\u001b[43m_read_query_result\u001b[49m\u001b[43m(\u001b[49m\u001b[43munbuffered\u001b[49m\u001b[38;5;241;43m=\u001b[39;49m\u001b[43munbuffered\u001b[49m\u001b[43m)\u001b[49m\n\u001b[1;32m    559\u001b[0m \u001b[38;5;28;01mreturn\u001b[39;00m \u001b[38;5;28mself\u001b[39m\u001b[38;5;241m.\u001b[39m_affected_rows\n",
      "File \u001b[0;32m~/anaconda3/envs/AI_NLP/lib/python3.8/site-packages/pymysql/connections.py:822\u001b[0m, in \u001b[0;36mConnection._read_query_result\u001b[0;34m(self, unbuffered)\u001b[0m\n\u001b[1;32m    820\u001b[0m \u001b[38;5;28;01melse\u001b[39;00m:\n\u001b[1;32m    821\u001b[0m     result \u001b[38;5;241m=\u001b[39m MySQLResult(\u001b[38;5;28mself\u001b[39m)\n\u001b[0;32m--> 822\u001b[0m     \u001b[43mresult\u001b[49m\u001b[38;5;241;43m.\u001b[39;49m\u001b[43mread\u001b[49m\u001b[43m(\u001b[49m\u001b[43m)\u001b[49m\n\u001b[1;32m    823\u001b[0m \u001b[38;5;28mself\u001b[39m\u001b[38;5;241m.\u001b[39m_result \u001b[38;5;241m=\u001b[39m result\n\u001b[1;32m    824\u001b[0m \u001b[38;5;28;01mif\u001b[39;00m result\u001b[38;5;241m.\u001b[39mserver_status \u001b[38;5;129;01mis\u001b[39;00m \u001b[38;5;129;01mnot\u001b[39;00m \u001b[38;5;28;01mNone\u001b[39;00m:\n",
      "File \u001b[0;32m~/anaconda3/envs/AI_NLP/lib/python3.8/site-packages/pymysql/connections.py:1200\u001b[0m, in \u001b[0;36mMySQLResult.read\u001b[0;34m(self)\u001b[0m\n\u001b[1;32m   1198\u001b[0m \u001b[38;5;28;01mdef\u001b[39;00m \u001b[38;5;21mread\u001b[39m(\u001b[38;5;28mself\u001b[39m):\n\u001b[1;32m   1199\u001b[0m     \u001b[38;5;28;01mtry\u001b[39;00m:\n\u001b[0;32m-> 1200\u001b[0m         first_packet \u001b[38;5;241m=\u001b[39m \u001b[38;5;28;43mself\u001b[39;49m\u001b[38;5;241;43m.\u001b[39;49m\u001b[43mconnection\u001b[49m\u001b[38;5;241;43m.\u001b[39;49m\u001b[43m_read_packet\u001b[49m\u001b[43m(\u001b[49m\u001b[43m)\u001b[49m\n\u001b[1;32m   1202\u001b[0m         \u001b[38;5;28;01mif\u001b[39;00m first_packet\u001b[38;5;241m.\u001b[39mis_ok_packet():\n\u001b[1;32m   1203\u001b[0m             \u001b[38;5;28mself\u001b[39m\u001b[38;5;241m.\u001b[39m_read_ok_packet(first_packet)\n",
      "File \u001b[0;32m~/anaconda3/envs/AI_NLP/lib/python3.8/site-packages/pymysql/connections.py:772\u001b[0m, in \u001b[0;36mConnection._read_packet\u001b[0;34m(self, packet_type)\u001b[0m\n\u001b[1;32m    770\u001b[0m     \u001b[38;5;28;01mif\u001b[39;00m \u001b[38;5;28mself\u001b[39m\u001b[38;5;241m.\u001b[39m_result \u001b[38;5;129;01mis\u001b[39;00m \u001b[38;5;129;01mnot\u001b[39;00m \u001b[38;5;28;01mNone\u001b[39;00m \u001b[38;5;129;01mand\u001b[39;00m \u001b[38;5;28mself\u001b[39m\u001b[38;5;241m.\u001b[39m_result\u001b[38;5;241m.\u001b[39munbuffered_active \u001b[38;5;129;01mis\u001b[39;00m \u001b[38;5;28;01mTrue\u001b[39;00m:\n\u001b[1;32m    771\u001b[0m         \u001b[38;5;28mself\u001b[39m\u001b[38;5;241m.\u001b[39m_result\u001b[38;5;241m.\u001b[39munbuffered_active \u001b[38;5;241m=\u001b[39m \u001b[38;5;28;01mFalse\u001b[39;00m\n\u001b[0;32m--> 772\u001b[0m     \u001b[43mpacket\u001b[49m\u001b[38;5;241;43m.\u001b[39;49m\u001b[43mraise_for_error\u001b[49m\u001b[43m(\u001b[49m\u001b[43m)\u001b[49m\n\u001b[1;32m    773\u001b[0m \u001b[38;5;28;01mreturn\u001b[39;00m packet\n",
      "File \u001b[0;32m~/anaconda3/envs/AI_NLP/lib/python3.8/site-packages/pymysql/protocol.py:221\u001b[0m, in \u001b[0;36mMysqlPacket.raise_for_error\u001b[0;34m(self)\u001b[0m\n\u001b[1;32m    219\u001b[0m \u001b[38;5;28;01mif\u001b[39;00m DEBUG:\n\u001b[1;32m    220\u001b[0m     \u001b[38;5;28mprint\u001b[39m(\u001b[38;5;124m\"\u001b[39m\u001b[38;5;124merrno =\u001b[39m\u001b[38;5;124m\"\u001b[39m, errno)\n\u001b[0;32m--> 221\u001b[0m \u001b[43merr\u001b[49m\u001b[38;5;241;43m.\u001b[39;49m\u001b[43mraise_mysql_exception\u001b[49m\u001b[43m(\u001b[49m\u001b[38;5;28;43mself\u001b[39;49m\u001b[38;5;241;43m.\u001b[39;49m\u001b[43m_data\u001b[49m\u001b[43m)\u001b[49m\n",
      "File \u001b[0;32m~/anaconda3/envs/AI_NLP/lib/python3.8/site-packages/pymysql/err.py:143\u001b[0m, in \u001b[0;36mraise_mysql_exception\u001b[0;34m(data)\u001b[0m\n\u001b[1;32m    141\u001b[0m \u001b[38;5;28;01mif\u001b[39;00m errorclass \u001b[38;5;129;01mis\u001b[39;00m \u001b[38;5;28;01mNone\u001b[39;00m:\n\u001b[1;32m    142\u001b[0m     errorclass \u001b[38;5;241m=\u001b[39m InternalError \u001b[38;5;28;01mif\u001b[39;00m errno \u001b[38;5;241m<\u001b[39m \u001b[38;5;241m1000\u001b[39m \u001b[38;5;28;01melse\u001b[39;00m OperationalError\n\u001b[0;32m--> 143\u001b[0m \u001b[38;5;28;01mraise\u001b[39;00m errorclass(errno, errval)\n",
      "\u001b[0;31mIntegrityError\u001b[0m: (1452, 'Cannot add or update a child row: a foreign key constraint fails (`NLP_G3`.`news_data`, CONSTRAINT `fk_enter_id` FOREIGN KEY (`enter_id`) REFERENCES `enterprise_data` (`enter_id`))')"
     ]
    }
   ],
   "source": [
    "test.dbUpdater()"
   ]
  },
  {
   "cell_type": "code",
   "execution_count": 39,
   "id": "af628535",
   "metadata": {},
   "outputs": [],
   "source": [
    "def divideArticle(artList):\n",
    "    divideArt = []\n",
    "    for art in artList:\n",
    "        artTemp = art.split('.')\n",
    "        divideArt.append(artTemp)\n",
    "    return divideArt"
   ]
  },
  {
   "cell_type": "code",
   "execution_count": 40,
   "id": "62120e61",
   "metadata": {},
   "outputs": [],
   "source": [
    "ditest = divideArticle(test.articles[0:2])"
   ]
  },
  {
   "cell_type": "code",
   "execution_count": 51,
   "id": "0c4914b8",
   "metadata": {},
   "outputs": [],
   "source": [
    "config = {'user': 'admin_ytk',\n",
    "            'password': 'tN8VnV1aBuDNvcnPWKgU',\n",
    "            'host': 'database-ytk.ctkg5u6wqxe6.us-east-2.rds.amazonaws.com',\n",
    "            'database': 'NLP_G3',\n",
    "            'raise_on_warnings': True}\n",
    "cnn = pymysql.connect(host='database-ytk.ctkg5u6wqxe6.us-east-2.rds.amazonaws.com', user='admin_ytk', password='tN8VnV1aBuDNvcnPWKgU',db='NLP_G3')        \n",
    "cur = cnn.cursor()\n",
    "# connection = mysql.connector.connect(**config)\n",
    "        \n",
    "# cursor = connection.cursor()\n",
    "\n",
    "# query = 'SELECT * FROM test'\n",
    "query2 = \"INSERT INTO test (name, City) VALUES (%s, %s)\"\n",
    "data = (\"fqwfgbrw\", \"regrh\")\n",
    "cur.execute(query2, data)\n",
    "cnn.commit()\n",
    "\n",
    "# result = cursor.fetchall()\n",
    "# for row in result:\n",
    "#      print(row)\n",
    "    \n",
    "cursor.close()\n",
    "connection.close()"
   ]
  },
  {
   "cell_type": "code",
   "execution_count": 53,
   "id": "4dfc5ea8",
   "metadata": {},
   "outputs": [
    {
     "name": "stdout",
     "output_type": "stream",
     "text": [
      "('TeaKwan', 'Seoul')\n",
      "('Tester', 'Jeju')\n",
      "('test', 'tes')\n",
      "('test', 'tes')\n",
      "('test_2', 'tes_2')\n",
      "('test_3', 'tes_3')\n",
      "('dw', 'dw')\n",
      "('wr', 'wqdqwd')\n",
      "('uyk', 'htyh')\n",
      "('gewg', 'ew')\n",
      "('fqwfgbrw', 'regrh')\n"
     ]
    }
   ],
   "source": [
    "config = {'user': 'admin_ytk',\n",
    "            'password': 'tN8VnV1aBuDNvcnPWKgU',\n",
    "            'host': 'database-ytk.ctkg5u6wqxe6.us-east-2.rds.amazonaws.com',\n",
    "            'database': 'NLP_G3',\n",
    "            'raise_on_warnings': True}\n",
    "cnn = pymysql.connect(host='database-ytk.ctkg5u6wqxe6.us-east-2.rds.amazonaws.com', user='admin_ytk', password='tN8VnV1aBuDNvcnPWKgU',db='NLP_G3')        \n",
    "cur = cnn.cursor()\n",
    "\n",
    "query = 'SELECT * FROM test'\n",
    "cur.execute(query)\n",
    "\n",
    "\n",
    "result = cur.fetchall()\n",
    "for row in result:\n",
    "     print(row)\n",
    "cur.close()\n",
    "cnn.close()"
   ]
  },
  {
   "cell_type": "code",
   "execution_count": 34,
   "id": "a4792865",
   "metadata": {},
   "outputs": [],
   "source": [
    "qd = []\n",
    "\n",
    "def dbUpdater():\n",
    "    config = {'user': 'admin_ytk',\n",
    "            'password': 'tN8VnV1aBuDNvcnPWKgU',\n",
    "            'host': 'database-ytk.ctkg5u6wqxe6.us-east-2.rds.amazonaws.com',\n",
    "            'database': 'NLP_G3',\n",
    "            'raise_on_warnings': True}\n",
    "    \n",
    "    cnn = pymysql.connect(host='database-ytk.ctkg5u6wqxe6.us-east-2.rds.amazonaws.com', \n",
    "                              user='admin_ytk', password='tN8VnV1aBuDNvcnPWKgU',db='NLP_G3')        \n",
    "        \n",
    "    cur = cnn.cursor()\n",
    "        \n",
    "        #테이블에 맞춰 항목 추가 예정 \n",
    "#     for i in range(len(self.article_urls)):\n",
    "#         data = (self.titles[i], self.dates[i])\n",
    "#         querys_data.append(data)\n",
    "        \n",
    "        #query = 'INSERT INTO news_data VALUES (%s, %s)'\n",
    "    \n",
    "    qd.append(('wr','wqdqwd'))\n",
    "    qd.append(('uyk','htyh'))\n",
    "    qd.append(('gewg','ew'))\n",
    "    \n",
    "    \n",
    "    \n",
    "    \n",
    "    query = \"INSERT INTO test (name, City) VALUES (%s, %s)\"\n",
    "        \n",
    "    for i in qd:\n",
    "        cur.execute(query, i)\n",
    "        \n",
    "    cnn.commit()"
   ]
  },
  {
   "cell_type": "code",
   "execution_count": 35,
   "id": "ce225f66",
   "metadata": {},
   "outputs": [],
   "source": [
    "dbUpdater()ggggggg"
   ]
  },
  {
   "cell_type": "code",
   "execution_count": null,
   "id": "a601c600",
   "metadata": {},
   "outputs": [],
   "source": []
  }
 ],
 "metadata": {
  "kernelspec": {
   "display_name": "Python 3 (ipykernel)",
   "language": "python",
   "name": "python3"
  },
  "language_info": {
   "codemirror_mode": {
    "name": "ipython",
    "version": 3
   },
   "file_extension": ".py",
   "mimetype": "text/x-python",
   "name": "python",
   "nbconvert_exporter": "python",
   "pygments_lexer": "ipython3",
   "version": "3.8.17"
  }
 },
 "nbformat": 4,
 "nbformat_minor": 5
}
