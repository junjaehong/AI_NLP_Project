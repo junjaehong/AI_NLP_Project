{
 "cells": [
  {
   "cell_type": "code",
   "execution_count": 26,
   "id": "12f58be9",
   "metadata": {},
   "outputs": [],
   "source": [
    "import requests\n",
    "from bs4 import BeautifulSoup\n",
    "import pandas as pd\n",
    "from datetime import datetime\n",
    "import time\n",
    "import re\n",
    "import mysql.connector\n",
    "import pymysql"
   ]
  },
  {
   "cell_type": "code",
   "execution_count": 44,
   "id": "b0d5cd55",
   "metadata": {},
   "outputs": [],
   "source": [
    "class newsScrap :\n",
    "    \n",
    "    headers = {\"User-Agent\":\"Mozilla/5.0 (Windows NT 10.0; Win64; x64) AppleWebKit/537.36 (KHTML, like Gecko) Chrome/118.0.0.0 Safari/537.36\"}\n",
    "    \n",
    "    def __init__(self, company):\n",
    "        self.company = company\n",
    "        self.titles = []\n",
    "        self.dates = []\n",
    "        self.articles = []\n",
    "        self.article_urls = []\n",
    "        self.press_companies = []\n",
    "        \n",
    "    def createNewsLinks(self):\n",
    "        start_point = 1\n",
    "        while True :\n",
    "            #pd => 4=1일 , 2= 1달\n",
    "            url = 'https://search.naver.com/search.naver?where=news&query='+ str(self.company) + '&sm=tab_opt&sort=1&photo=0&field=0&pd=4&start=' + str(start_point)\n",
    "            web = requests.get(url).content\n",
    "            source = BeautifulSoup(web, 'html.parser')\n",
    "            \n",
    "            for urls in source.find_all('a', {'class' : \"info\"}):\n",
    "                if urls[\"href\"].startswith(\"https://n.news.naver.com\"):\n",
    "                    self.article_urls.append(urls[\"href\"])\n",
    "#                     print(urls[\"href\"])\n",
    "            is_last_page = source.find('a',{'class':'btn_next'}).get('aria-disabled')\n",
    "            if is_last_page == \"true\":\n",
    "#                 print(\"last page\")\n",
    "                break\n",
    "            else:\n",
    "                time.sleep(1)\n",
    "                start_point += 10\n",
    "                \n",
    "                    \n",
    "    def newsDataScrap(self):\n",
    "        for url in self.article_urls:\n",
    "            try:\n",
    "                web_news = requests.get(url, headers=self.headers).content\n",
    "                source_news = BeautifulSoup(web_news, 'html.parser')\n",
    "\n",
    "                title = source_news.find('h2', {'class' : 'media_end_head_headline'}).get_text()\n",
    "\n",
    "                date = source_news.find('span', {'class' : 'media_end_head_info_datestamp_time'}).get_text()\n",
    "\n",
    "                article = source_news.find('div', {'id' : 'newsct_article'}).get_text()\n",
    "                article = article.replace(\"\\n\", \"\")\n",
    "                article = article.replace(\"// flash 오류를 우회하기 위한 함수 추가function _flash_removeCallback() {}\", \"\")\n",
    "                article = article.replace(\"동영상 뉴스       \", \"\")\n",
    "                article = article.replace(\"동영상 뉴스\", \"\")\n",
    "                article = article.strip()\n",
    "\n",
    "                press_company = source_news.find('em', {'class':'media_end_linked_more_point'}).get_text()\n",
    "                \n",
    "            \n",
    "                self.titles.append(title)\n",
    "                self.dates.append(date)\n",
    "                self.articles.append(article)\n",
    "                self.press_companies.append(press_company)\n",
    "            except:\n",
    "                pass\n",
    "            \n",
    "            \n",
    "            \n",
    "    def saveExcel(self):\n",
    "        article_df = pd.DataFrame({'Title':self.titles, \n",
    "                                   'Date':self.dates, \n",
    "                                   'Article':self.articles, \n",
    "                                   'URL':self.article_urls, \n",
    "                                   'PressCompany':self.press_companies})\n",
    "        article_df.to_excel('{}_{}.xlsx'.format(self.company, datetime.now().strftime('%y%m%d_%H%M')), index=False)\n",
    "        \n",
    "        \n",
    "    def dbUpdater(self):\n",
    "        config = {'user': 'admin_ytk',\n",
    "                'password': 'tN8VnV1aBuDNvcnPWKgU',\n",
    "                'host': 'database-ytk.ctkg5u6wqxe6.us-east-2.rds.amazonaws.com',\n",
    "                'database': 'NLP_G3',\n",
    "                'raise_on_warnings': True}\n",
    "        \n",
    "        cnn = pymysql.connect(host='database-ytk.ctkg5u6wqxe6.us-east-2.rds.amazonaws.com', \n",
    "                              user='admin_ytk', password='tN8VnV1aBuDNvcnPWKgU',db='NLP_G3')\n",
    "        querys_data = []\n",
    "        \n",
    "        cur = cnn.cursor()\n",
    "        \n",
    "        #테이블에 맞춰 항목 추가 예정 \n",
    "        for i in range(len(self.article_urls)):\n",
    "            data = (i, self.titles[i], self.articles[i], self.dates[i], self.press_companies[i],self.article_urls[i])\n",
    "            querys_data.append(data)\n",
    "        \n",
    "        query = 'INSERT INTO news_data VALUES (%s, %s, %s, %s, %s, %s)'\n",
    "        #query = \"INSERT INTO test (name, City) VALUES (%s, %s)\"\n",
    "        \n",
    "        for i in querys_data:\n",
    "            cur.execute(query, i)\n",
    "        \n",
    "        cnn.commit()\n",
    "        cur.close()\n",
    "        cnn.close()"
   ]
  },
  {
   "cell_type": "code",
   "execution_count": 45,
   "id": "a2599e49",
   "metadata": {},
   "outputs": [],
   "source": [
    "test = newsScrap('롯데백화점')"
   ]
  },
  {
   "cell_type": "code",
   "execution_count": 46,
   "id": "c070f77e",
   "metadata": {},
   "outputs": [],
   "source": [
    "test.createNewsLinks()"
   ]
  },
  {
   "cell_type": "code",
   "execution_count": 47,
   "id": "6e527ab8",
   "metadata": {},
   "outputs": [
    {
     "data": {
      "text/plain": [
       "['https://n.news.naver.com/mnews/article/014/0005114067?sid=101',\n",
       " 'https://n.news.naver.com/mnews/article/215/0001138913?sid=101',\n",
       " 'https://n.news.naver.com/mnews/article/009/0005229278?sid=103',\n",
       " 'https://n.news.naver.com/mnews/article/021/0002610424?sid=101',\n",
       " 'https://n.news.naver.com/mnews/article/008/0004973298?sid=101',\n",
       " 'https://n.news.naver.com/mnews/article/081/0003416110?sid=102',\n",
       " 'https://n.news.naver.com/mnews/article/658/0000060481?sid=101',\n",
       " 'https://n.news.naver.com/mnews/article/025/0003328036?sid=101',\n",
       " 'https://n.news.naver.com/mnews/article/081/0003416047?sid=101',\n",
       " 'https://n.news.naver.com/mnews/article/025/0003327977?sid=101',\n",
       " 'https://n.news.naver.com/mnews/article/008/0004973165?sid=101',\n",
       " 'https://n.news.naver.com/mnews/article/081/0003416013?sid=102',\n",
       " 'https://n.news.naver.com/mnews/article/417/0000968463?sid=101',\n",
       " 'https://n.news.naver.com/mnews/article/029/0002842776?sid=101',\n",
       " 'https://n.news.naver.com/mnews/article/009/0005228784?sid=103',\n",
       " 'https://n.news.naver.com/mnews/article/417/0000968393?sid=102']"
      ]
     },
     "execution_count": 47,
     "metadata": {},
     "output_type": "execute_result"
    }
   ],
   "source": [
    "test.article_urls"
   ]
  },
  {
   "cell_type": "code",
   "execution_count": 48,
   "id": "eda592a4",
   "metadata": {},
   "outputs": [],
   "source": [
    "test.newsDataScrap()"
   ]
  },
  {
   "cell_type": "code",
   "execution_count": 49,
   "id": "80b7a890",
   "metadata": {},
   "outputs": [
    {
     "data": {
      "text/plain": [
       "['이문•휘경뉴타운\\xa0최대규모…더블\\xa0역세권,\\xa0생활\\xa0인프라\\xa0이용\\xa0수월 이문 아이파크 자이 투시도_  HDC현대산업개발과 GS건설의 ‘이문 아이파크 자이’가 무순위 청약을 진행한다.   HDC현대산업개발과 GS건설은 오는 15일(금) 서울 동대문구 이문휘경뉴타운 이문3구역의 이문 아이파크 자이 일부 잔여가구를 대상으로 무순위 청약을 받는다. 이번 청약은 이문 아이파크 자이 공식 분양 홈페이지에서 오전 9시~오후 5시까지 진행한다.   누구나 청약신청이 가능하다. 현재 국내에 거주하는 만 19세 이상 또는 세대주인 미성년자(자녀양육, 형제자매부양)이면 거주지와 상관 없이 누구나 청약신청이 가능하다. 여기에 청약통장이 필요하지 않고, 실거주 의무도 없다. 다만, 이문 아이파크 자이 계약을 체결한 자 또는 당첨된 후 계약을 체결하지 않은 자, 부적격 당첨자로 그 제한기간 중에 있는 자 등은 청약신청이 불가하다.   이번 무순위 청약 당첨자 발표는 청약당일인 15일(금)이며, 계약은 19일(화) 견본주택에서 진행한다.   한편, ‘이문 아이파크 자이’는 지하 6층~지상 최고 41층 25개동 총 4321가구 규모로 이중 전용면적 20~102㎡ 총 1467가구가 일반에 공급됐다.   지하철을 걸어서 이용할 수 있는 데다가 자연환경 또한 누릴 수 있다는 설명이다. 서울지하철 1호선 외대앞역 초역세권인데다 서울 지하철 1호선 신이문역도 걸어서 이용할 수 있다. 천장산과 중랑천 등을 걸어서 이용할 수 있어 여가활동은 물론 쾌적한 주거생활이 가능하다. 특히 3단지는 천장산을 품고 있는 도심 숲세권 단지로 쾌적하고 여유로운 주거 라이프를 누릴 수 있는 것이 특징이다.   교육환경도 눈길을 끈다. 이문초, 석관중, 석관고, 경희중, 경희고 등 각급학교가 도보권에 위치해 있어 자녀들의 안전한 통학이 가능하고, 인근으로 한국외대, 경희대, 한예종, 카이스트 서울캠퍼스 등이 밀집해 있다. 또한 롯데백화점 청량리점, 코스트코 상봉점, 홈플러스 상봉점, 이마트 묵동점 등 대형 유통시설이 가까이 있고, 경희의료원, 삼육서울병원, 이문체육문화센터, 이문 어린이도서관, 주민센터 등 각종 편의∙의료 인프라도 풍부하다.   이문 아이파크 자이 견본주택은 서울시 동대문구 이문동 일원에 위치해 있으며, 입주는 1,2단지가 2025년 11월, 3단지가 2026년 5월 예정이다.',\n",
       " '이문·휘경뉴타운 최대 규모로 조성되는 ‘이문 아이파크 자이’가 무순위 청약을 진행한다.HDC현대산업개발과 GS건설은 오는 15일, 서울 동대문구 이문휘경뉴타운 이문3구역의 이문 아이파크 자이 일부 잔여가구를 대상으로 무순위 청약을 받는다. 이번 청약은 이문 아이파크 자이 공식 분양 홈페이지에서 오전 9시~오후 5시까지 진행한다.자격요건은 현재 국내에 거주하는 만 19세 이상 또는 세대주인 미성년자(자녀양육, 형제자매부양)이면 거주지와 상관 없이 누구나 청약신청이 가능하다. 여기에 청약통장이 필요하지 않고, 실거주 의무도 없다. 다만, 이문 아이파크 자이 계약을 체결한 자 또는 당첨된 후 계약을 체결하지 않은 자, 부적격 당첨자로 그 제한기간 중에 있는 자 등은 청약신청이 불가하다.이번 무순위 청약 당첨자 발표는 청약당일인 15일(금)이며, 계약은 19일(화) 견본주택에서 진행한다.한편, ‘이문 아이파크 자이’는 지하 6층~지상 최고 41층 25개동 총 4321가구의 랜드마크급 규모로 이중 전용면적 20~102㎡ 총 1467가구가 일반에 공급됐다.서울지하철 1호선 외대앞역 초역세권인데다 서울 지하철 1호선 신이문역도 걸어서 이용할 수 있다. 천장산과 중랑천 등을 걸어서 이용할 수 있어 여가활동은 물론 쾌적한 주거생활이 가능하다. 특히 3단지는 천장산을 품고 있는 도심 숲세권 단지로 쾌적하고 여유로운 주거 라이프를 누릴 수 있는 것이 특징이다.교육환경도 우수하다. 이문초, 석관중, 석관고, 경희중, 경희고 등 각급학교가 도보권에 위치해 있어 자녀들의 안전한 통학이 가능하고, 인근으로 한국외대, 경희대, 한예종, 카이스트 서울캠퍼스 등이 밀집해 있다.또한 롯데백화점 청량리점, 코스트코 상봉점, 홈플러스 상봉점, 이마트 묵동점 등 대형 유통시설이 가까이 있고, 경희의료원, 삼육서울병원, 이문체육문화센터, 이문 어린이도서관, 주민센터 등 각종 편의·의료 인프라도 풍부하다. 입주는 1,2단지가 2025년 11월, 3단지가 2026년 5월 예정이다.']"
      ]
     },
     "execution_count": 49,
     "metadata": {},
     "output_type": "execute_result"
    }
   ],
   "source": [
    "test.articles[0:2]"
   ]
  },
  {
   "cell_type": "code",
   "execution_count": 50,
   "id": "3b6760c3",
   "metadata": {},
   "outputs": [
    {
     "ename": "IntegrityError",
     "evalue": "(1452, 'Cannot add or update a child row: a foreign key constraint fails (`NLP_G3`.`news_data`, CONSTRAINT `fk_enter_id` FOREIGN KEY (`enter_id`) REFERENCES `enterprise_data` (`enter_id`))')",
     "output_type": "error",
     "traceback": [
      "\u001b[0;31m---------------------------------------------------------------------------\u001b[0m",
      "\u001b[0;31mIntegrityError\u001b[0m                            Traceback (most recent call last)",
      "Cell \u001b[0;32mIn[50], line 1\u001b[0m\n\u001b[0;32m----> 1\u001b[0m \u001b[43mtest\u001b[49m\u001b[38;5;241;43m.\u001b[39;49m\u001b[43mdbUpdater\u001b[49m\u001b[43m(\u001b[49m\u001b[43m)\u001b[49m\n",
      "Cell \u001b[0;32mIn[44], line 95\u001b[0m, in \u001b[0;36mnewsScrap.dbUpdater\u001b[0;34m(self)\u001b[0m\n\u001b[1;32m     92\u001b[0m \u001b[38;5;66;03m#query = \"INSERT INTO test (name, City) VALUES (%s, %s)\"\u001b[39;00m\n\u001b[1;32m     94\u001b[0m \u001b[38;5;28;01mfor\u001b[39;00m i \u001b[38;5;129;01min\u001b[39;00m querys_data:\n\u001b[0;32m---> 95\u001b[0m     \u001b[43mcur\u001b[49m\u001b[38;5;241;43m.\u001b[39;49m\u001b[43mexecute\u001b[49m\u001b[43m(\u001b[49m\u001b[43mquery\u001b[49m\u001b[43m,\u001b[49m\u001b[43m \u001b[49m\u001b[43mi\u001b[49m\u001b[43m)\u001b[49m\n\u001b[1;32m     97\u001b[0m cnn\u001b[38;5;241m.\u001b[39mcommit()\n\u001b[1;32m     98\u001b[0m cur\u001b[38;5;241m.\u001b[39mclose()\n",
      "File \u001b[0;32m~/anaconda3/envs/AI_NLP/lib/python3.8/site-packages/pymysql/cursors.py:153\u001b[0m, in \u001b[0;36mCursor.execute\u001b[0;34m(self, query, args)\u001b[0m\n\u001b[1;32m    149\u001b[0m     \u001b[38;5;28;01mpass\u001b[39;00m\n\u001b[1;32m    151\u001b[0m query \u001b[38;5;241m=\u001b[39m \u001b[38;5;28mself\u001b[39m\u001b[38;5;241m.\u001b[39mmogrify(query, args)\n\u001b[0;32m--> 153\u001b[0m result \u001b[38;5;241m=\u001b[39m \u001b[38;5;28;43mself\u001b[39;49m\u001b[38;5;241;43m.\u001b[39;49m\u001b[43m_query\u001b[49m\u001b[43m(\u001b[49m\u001b[43mquery\u001b[49m\u001b[43m)\u001b[49m\n\u001b[1;32m    154\u001b[0m \u001b[38;5;28mself\u001b[39m\u001b[38;5;241m.\u001b[39m_executed \u001b[38;5;241m=\u001b[39m query\n\u001b[1;32m    155\u001b[0m \u001b[38;5;28;01mreturn\u001b[39;00m result\n",
      "File \u001b[0;32m~/anaconda3/envs/AI_NLP/lib/python3.8/site-packages/pymysql/cursors.py:322\u001b[0m, in \u001b[0;36mCursor._query\u001b[0;34m(self, q)\u001b[0m\n\u001b[1;32m    320\u001b[0m conn \u001b[38;5;241m=\u001b[39m \u001b[38;5;28mself\u001b[39m\u001b[38;5;241m.\u001b[39m_get_db()\n\u001b[1;32m    321\u001b[0m \u001b[38;5;28mself\u001b[39m\u001b[38;5;241m.\u001b[39m_clear_result()\n\u001b[0;32m--> 322\u001b[0m \u001b[43mconn\u001b[49m\u001b[38;5;241;43m.\u001b[39;49m\u001b[43mquery\u001b[49m\u001b[43m(\u001b[49m\u001b[43mq\u001b[49m\u001b[43m)\u001b[49m\n\u001b[1;32m    323\u001b[0m \u001b[38;5;28mself\u001b[39m\u001b[38;5;241m.\u001b[39m_do_get_result()\n\u001b[1;32m    324\u001b[0m \u001b[38;5;28;01mreturn\u001b[39;00m \u001b[38;5;28mself\u001b[39m\u001b[38;5;241m.\u001b[39mrowcount\n",
      "File \u001b[0;32m~/anaconda3/envs/AI_NLP/lib/python3.8/site-packages/pymysql/connections.py:558\u001b[0m, in \u001b[0;36mConnection.query\u001b[0;34m(self, sql, unbuffered)\u001b[0m\n\u001b[1;32m    556\u001b[0m     sql \u001b[38;5;241m=\u001b[39m sql\u001b[38;5;241m.\u001b[39mencode(\u001b[38;5;28mself\u001b[39m\u001b[38;5;241m.\u001b[39mencoding, \u001b[38;5;124m\"\u001b[39m\u001b[38;5;124msurrogateescape\u001b[39m\u001b[38;5;124m\"\u001b[39m)\n\u001b[1;32m    557\u001b[0m \u001b[38;5;28mself\u001b[39m\u001b[38;5;241m.\u001b[39m_execute_command(COMMAND\u001b[38;5;241m.\u001b[39mCOM_QUERY, sql)\n\u001b[0;32m--> 558\u001b[0m \u001b[38;5;28mself\u001b[39m\u001b[38;5;241m.\u001b[39m_affected_rows \u001b[38;5;241m=\u001b[39m \u001b[38;5;28;43mself\u001b[39;49m\u001b[38;5;241;43m.\u001b[39;49m\u001b[43m_read_query_result\u001b[49m\u001b[43m(\u001b[49m\u001b[43munbuffered\u001b[49m\u001b[38;5;241;43m=\u001b[39;49m\u001b[43munbuffered\u001b[49m\u001b[43m)\u001b[49m\n\u001b[1;32m    559\u001b[0m \u001b[38;5;28;01mreturn\u001b[39;00m \u001b[38;5;28mself\u001b[39m\u001b[38;5;241m.\u001b[39m_affected_rows\n",
      "File \u001b[0;32m~/anaconda3/envs/AI_NLP/lib/python3.8/site-packages/pymysql/connections.py:822\u001b[0m, in \u001b[0;36mConnection._read_query_result\u001b[0;34m(self, unbuffered)\u001b[0m\n\u001b[1;32m    820\u001b[0m \u001b[38;5;28;01melse\u001b[39;00m:\n\u001b[1;32m    821\u001b[0m     result \u001b[38;5;241m=\u001b[39m MySQLResult(\u001b[38;5;28mself\u001b[39m)\n\u001b[0;32m--> 822\u001b[0m     \u001b[43mresult\u001b[49m\u001b[38;5;241;43m.\u001b[39;49m\u001b[43mread\u001b[49m\u001b[43m(\u001b[49m\u001b[43m)\u001b[49m\n\u001b[1;32m    823\u001b[0m \u001b[38;5;28mself\u001b[39m\u001b[38;5;241m.\u001b[39m_result \u001b[38;5;241m=\u001b[39m result\n\u001b[1;32m    824\u001b[0m \u001b[38;5;28;01mif\u001b[39;00m result\u001b[38;5;241m.\u001b[39mserver_status \u001b[38;5;129;01mis\u001b[39;00m \u001b[38;5;129;01mnot\u001b[39;00m \u001b[38;5;28;01mNone\u001b[39;00m:\n",
      "File \u001b[0;32m~/anaconda3/envs/AI_NLP/lib/python3.8/site-packages/pymysql/connections.py:1200\u001b[0m, in \u001b[0;36mMySQLResult.read\u001b[0;34m(self)\u001b[0m\n\u001b[1;32m   1198\u001b[0m \u001b[38;5;28;01mdef\u001b[39;00m \u001b[38;5;21mread\u001b[39m(\u001b[38;5;28mself\u001b[39m):\n\u001b[1;32m   1199\u001b[0m     \u001b[38;5;28;01mtry\u001b[39;00m:\n\u001b[0;32m-> 1200\u001b[0m         first_packet \u001b[38;5;241m=\u001b[39m \u001b[38;5;28;43mself\u001b[39;49m\u001b[38;5;241;43m.\u001b[39;49m\u001b[43mconnection\u001b[49m\u001b[38;5;241;43m.\u001b[39;49m\u001b[43m_read_packet\u001b[49m\u001b[43m(\u001b[49m\u001b[43m)\u001b[49m\n\u001b[1;32m   1202\u001b[0m         \u001b[38;5;28;01mif\u001b[39;00m first_packet\u001b[38;5;241m.\u001b[39mis_ok_packet():\n\u001b[1;32m   1203\u001b[0m             \u001b[38;5;28mself\u001b[39m\u001b[38;5;241m.\u001b[39m_read_ok_packet(first_packet)\n",
      "File \u001b[0;32m~/anaconda3/envs/AI_NLP/lib/python3.8/site-packages/pymysql/connections.py:772\u001b[0m, in \u001b[0;36mConnection._read_packet\u001b[0;34m(self, packet_type)\u001b[0m\n\u001b[1;32m    770\u001b[0m     \u001b[38;5;28;01mif\u001b[39;00m \u001b[38;5;28mself\u001b[39m\u001b[38;5;241m.\u001b[39m_result \u001b[38;5;129;01mis\u001b[39;00m \u001b[38;5;129;01mnot\u001b[39;00m \u001b[38;5;28;01mNone\u001b[39;00m \u001b[38;5;129;01mand\u001b[39;00m \u001b[38;5;28mself\u001b[39m\u001b[38;5;241m.\u001b[39m_result\u001b[38;5;241m.\u001b[39munbuffered_active \u001b[38;5;129;01mis\u001b[39;00m \u001b[38;5;28;01mTrue\u001b[39;00m:\n\u001b[1;32m    771\u001b[0m         \u001b[38;5;28mself\u001b[39m\u001b[38;5;241m.\u001b[39m_result\u001b[38;5;241m.\u001b[39munbuffered_active \u001b[38;5;241m=\u001b[39m \u001b[38;5;28;01mFalse\u001b[39;00m\n\u001b[0;32m--> 772\u001b[0m     \u001b[43mpacket\u001b[49m\u001b[38;5;241;43m.\u001b[39;49m\u001b[43mraise_for_error\u001b[49m\u001b[43m(\u001b[49m\u001b[43m)\u001b[49m\n\u001b[1;32m    773\u001b[0m \u001b[38;5;28;01mreturn\u001b[39;00m packet\n",
      "File \u001b[0;32m~/anaconda3/envs/AI_NLP/lib/python3.8/site-packages/pymysql/protocol.py:221\u001b[0m, in \u001b[0;36mMysqlPacket.raise_for_error\u001b[0;34m(self)\u001b[0m\n\u001b[1;32m    219\u001b[0m \u001b[38;5;28;01mif\u001b[39;00m DEBUG:\n\u001b[1;32m    220\u001b[0m     \u001b[38;5;28mprint\u001b[39m(\u001b[38;5;124m\"\u001b[39m\u001b[38;5;124merrno =\u001b[39m\u001b[38;5;124m\"\u001b[39m, errno)\n\u001b[0;32m--> 221\u001b[0m \u001b[43merr\u001b[49m\u001b[38;5;241;43m.\u001b[39;49m\u001b[43mraise_mysql_exception\u001b[49m\u001b[43m(\u001b[49m\u001b[38;5;28;43mself\u001b[39;49m\u001b[38;5;241;43m.\u001b[39;49m\u001b[43m_data\u001b[49m\u001b[43m)\u001b[49m\n",
      "File \u001b[0;32m~/anaconda3/envs/AI_NLP/lib/python3.8/site-packages/pymysql/err.py:143\u001b[0m, in \u001b[0;36mraise_mysql_exception\u001b[0;34m(data)\u001b[0m\n\u001b[1;32m    141\u001b[0m \u001b[38;5;28;01mif\u001b[39;00m errorclass \u001b[38;5;129;01mis\u001b[39;00m \u001b[38;5;28;01mNone\u001b[39;00m:\n\u001b[1;32m    142\u001b[0m     errorclass \u001b[38;5;241m=\u001b[39m InternalError \u001b[38;5;28;01mif\u001b[39;00m errno \u001b[38;5;241m<\u001b[39m \u001b[38;5;241m1000\u001b[39m \u001b[38;5;28;01melse\u001b[39;00m OperationalError\n\u001b[0;32m--> 143\u001b[0m \u001b[38;5;28;01mraise\u001b[39;00m errorclass(errno, errval)\n",
      "\u001b[0;31mIntegrityError\u001b[0m: (1452, 'Cannot add or update a child row: a foreign key constraint fails (`NLP_G3`.`news_data`, CONSTRAINT `fk_enter_id` FOREIGN KEY (`enter_id`) REFERENCES `enterprise_data` (`enter_id`))')"
     ]
    }
   ],
   "source": [
    "test.dbUpdater()"
   ]
  },
  {
   "cell_type": "code",
   "execution_count": 39,
   "id": "af628535",
   "metadata": {},
   "outputs": [],
   "source": [
    "def divideArticle(artList):\n",
    "    divideArt = []\n",
    "    for art in artList:\n",
    "        artTemp = art.split('.')\n",
    "        divideArt.append(artTemp)\n",
    "    return divideArt"
   ]
  },
  {
   "cell_type": "code",
   "execution_count": 40,
   "id": "62120e61",
   "metadata": {},
   "outputs": [],
   "source": [
    "ditest = divideArticle(test.articles[0:2])"
   ]
  },
  {
   "cell_type": "code",
   "execution_count": 51,
   "id": "0c4914b8",
   "metadata": {},
   "outputs": [],
   "source": [
    "config = {'user': 'admin_ytk',\n",
    "            'password': 'tN8VnV1aBuDNvcnPWKgU',\n",
    "            'host': 'database-ytk.ctkg5u6wqxe6.us-east-2.rds.amazonaws.com',\n",
    "            'database': 'NLP_G3',\n",
    "            'raise_on_warnings': True}\n",
    "cnn = pymysql.connect(host='database-ytk.ctkg5u6wqxe6.us-east-2.rds.amazonaws.com', user='admin_ytk', password='tN8VnV1aBuDNvcnPWKgU',db='NLP_G3')        \n",
    "cur = cnn.cursor()\n",
    "# connection = mysql.connector.connect(**config)\n",
    "        \n",
    "# cursor = connection.cursor()\n",
    "\n",
    "# query = 'SELECT * FROM test'\n",
    "query2 = \"INSERT INTO test (name, City) VALUES (%s, %s)\"\n",
    "data = (\"fqwfgbrw\", \"regrh\")\n",
    "cur.execute(query2, data)\n",
    "cnn.commit()\n",
    "\n",
    "# result = cursor.fetchall()\n",
    "# for row in result:\n",
    "#      print(row)\n",
    "    \n",
    "cursor.close()\n",
    "connection.close()"
   ]
  },
  {
   "cell_type": "code",
   "execution_count": 65,
   "id": "4dfc5ea8",
   "metadata": {},
   "outputs": [
    {
     "name": "stdout",
     "output_type": "stream",
     "text": [
      "(1, '철도시설 유지보수 코레일 독점깨지나', '\\'독점보장 단서조항 삭제\\' 철산법 개정안 장기 표류에정부, 시행령 개정 만지작···\"민영화 아냐, 공공기관 한정\"[서울경제] 정부가 철도시설 유지보수 업무의 한국철도공사(코레일) 독점 구조 해소 방안을 추진한다. 코레일 내에는 ‘안전부사장’직을 신설해 유지보수의 책임성을 강화하고 관제의 독립성을 강화한다.국토교통부는 지난해 12월 조응천 더불어민주당 의원이 대표발의한 철도산업발전기본법(철산법) 개정안이 국토교통위원회(교통법안심사소위원회)에서 조속히 통과되도록 철도노조와 국회를 설득할 계획이라고 14일 밝혔다. 철산법 38조는 철도관제, 철도시설 유지보수 등 업무를 대통령령에서 위탁할 수 있다고 규정하면서 ‘단, 철도시설 유지보수 시행 업무는 철도공사에 위탁한다’고 단서를 달아놨다. 이 때문에 코레일은 현재 철도시설 유지보수 업무를 사실상 독점하고 있다.문제는 2003년 철산법 제정 당시와 달리 철도운영기관이 다양화하면서 국가철도 중 진접선 등과 같이 코레일이 운영하지 않는 노선까지 코레일이 유지보수를 수행하는 비효율이 발생하고 있다. 운영기관과 유지보수기관을 일치시키는 제도적 틀을 마련하는 게 시급한 이유다.조 의원이 발의한 철산법 개정안은 코레일의 독점적인 유지보수를 보장한 단서조항을 삭제하는 것이 골자다. 하지만 철도노조와 일부 야당 의원이 철산법 개정으로 유지보수 등이 민영화될 수 있다며 강하게 반대하면서 1년간 철산법 개정안은 국회에 잠들어 있는 상태다. 이에 국토부는 코레일 운영 구간은 코레일이, 나머지 구간은 해당 운영사가 유지보수를 수행하도록 시행령에 규정하는 일종의 절충안을 국회에 제안했다. 이를 적용할 경우 2016년 개통된 수서평택고속선의 유지보수 업무는 기존 코레일에서 운영기관인 SR로 이관돼야 한다.국토부는 민영화 우려를 불식시키기 위한 장치도 마련 중이다. 박재순 국토부 철도안전정책관은 “철산법 개정이 ‘민영화’는 절대 아니다”라며 “유지보수를 민간에 개방하는 것이 아니라, 서울교통공사 등 공공기관으로 한정하는 것”이라고 설명했다. 공공주택을 한국토지주택공사(LH)뿐 아니라 서울도시주택공사(SH), 경기주택도시공사(GH)가 나눠 짓는다고 해서 민영화되는 것은 아니라는 논리다.정부가 법안 폐기 위기에 놓여 있는 철산법 개정안 논의의 불씨를 살릴 ‘마지막 카드’를 꺼내들면서 오는 19일 국회 국토교통위 교통법안심사소위에 철산법 개정안이 상정될 가능성도 높아졌다.한편 보스턴컨설팅그룹(BCG)도 국토교통부, 코레일, 국가철도공단이 공동 발주한 ‘철도안전체계 심층진단 및 개선방안’ 컨설팅에서 철산법 개정이 필요하다는 결론을 도출했다. BCG는 “유지보수와 관제는 코레일이, 건설과 개량은 철도공단로 위탁된 시설관리의 파편화가 (최근 빈발한) 철도사고의 근본적인 원인”이라고 지적했다. 이로 인해 업무의 일관성 부족, 시스템 적기 개선 지연, 사고시 책임 공방에 치중해 즉각적 원인해결이 곤란하다고 짚었다.아울러 전체 역의 약 46%에 해당하는 200여 곳에서 관제와 역무와 혼합돼 일관성과 적시성이 떨어지는 문제도 드러났다. BCG는 “코레일 내 관제와 유지보수를 총괄하는 안전부사장을 신설해야 한다”며 “역별 관제 업무를 역무에서 떼어내 중앙관제에 집중시켜 관제의 독립성을 강화해야 한다”고 제안했다.', '2023.', 'ER01', 'https://n.news.naver.com/mnews')\n",
      "(2, '“3683만원 넘으면 주차 금지”…LH 임대아파트 공지 ‘갑론을박’', '온라인 커뮤니티 보배드림 캡처.LH(한국토지주택공사)가 무주택 저소득층에게 공급하는 국민 임대주택에 자산 기준에 맞지 않는 고가 차량의 주차를 제한하겠다고 공지를 내건 사실이 뒤늦게 알려졌다. 엄격한 기준에 따라 입주하는 서민용 아파트에 수천만원을 넘는 고가의 차량 등록이 부쩍 늘면서 민원이 급증한 데 대한 조치로 보인다.지난 13일 온라인 커뮤니티 보배드림에는 ‘국민임대 지하 주차장 고급 차량’이라는 제목의 게시글과 사진이 함께 올라왔다.지난 8일부터 LH의 한 국민 임대주택 주차장에 붙은 것으로 보이는 안내문에는 “임대주택 내 고가 차량 주차 문제로 지속적으로 민원과 문제 제기가 되고 있어 LH 고가 차량의 등록 및 주차방침이 실시된다”면서 “우리 아파트에 등록된 고가 차량의 전수조사를 실시한다”라고 적혀 있다.LH의 홈페이지에 게재된 전용 60㎡ 이하 임대아파트(2023년도)의 자격 기준에 따르면 소득은 ‘전년도 도시근로자 가구당 월평균 소득의 70%(1인 기준, 301만 8496만원) 이하’, 자동차는 ‘세대가 보유한 모든 차량의 합산 가액 3683만원 이하’라고 규정돼 있다.관리소 측은 해당 기준에 따라 아파트내 차량 전수조사 실시 후 차량 가액 3683만원 이상 자동차의  주차를 막겠다고 밝혔다. LH는 2~4년마다 별도의 소득 기준을 마련해 입주 여부를 평가하지만, 계약 기간 중 차량 변동 여부에 대해서는 심사하지 않는 것으로 알려졌다.LH 임대 아파트에 붙은 고가차량 등록 변경 안내문. 보배드림 캡처.실제 글쓴이 A씨가 올린 사진에 따르면 해당 아파트에는 BMW, 포드, 캐딜락 같은 고가의 수입차를 비롯해 가격이 4000만원이 훌쩍 넘는 제네시스 같은 국산 차들도 많았다.A씨는 “3683만원이 넘으면 입주 조건도 안 되고 주차 등록도 안 돼야 정상이다. 우리 아파트에 저렇게 비싼 차량을 몰고 다니는 사람들 때문에 정작 필요한 사람들이 입주를 못 하고 있다. 정말 어처구니가 없다”고 꼬집었다.관리사무소 측은 등록된 차량 중 고가로 추정되는 차량 주인에게 직접 연락해 차량 등록증을 제출받아 차량 가액을 확인하겠다고 밝혔다.글을 본 한 누리꾼들은 “저 정도는 애교다. 우리 동네는 레인지로버부터 벤츠, 포르쉐도 있다”, “혜택받아야 할 사람들은 못 받고 편법으로 잔머리 굴리는 사람들이 편한 게 정상이냐” 같은 비판을 쏟아냈다.반면 다른 누리꾼은 “렌터카는 자기 소유가 아니라서 소득 기준에서도 제외된다”, “(사정상) 법인 명의 차량도 있을 텐데 무조건 불법이나 꼼수라고 비난하는 것은 성급하다”는 지적도 내놨다.', '2023.', 'ER01', 'https://n.news.naver.com/mnews')\n",
      "(3, \"국토부, '철도 유지보수 코레일 독점' 규정 개정 추진\", '국토교통부가 한국철도공사(코레일)에 \\'철도 시설 유지보수\\'를 독점적으로 맡긴 현행 철도산업발전기본법(철산법)의 개정을 추진합니다.다만 철도 시설의 유지보수 업무를 코레일에서 분리하는 방안이 \\'철도 민영화\\'를 위한 시도라고 보는 철도노조 등의 반발은 반드시 넘어야 할 과제입니.국토부는 오늘(14일) 정부세종청사에서 기자간담회를 열고 철산법 개정안이 오는 19일로 예정된 국회 국토교통위원회 교통법안심사소위원회(교통소위)에 상정될 수 있도록 국회와 철도노조 등을 지속 설득할 계획이라고 밝혔습니다.철산법 개정안은 지난해 12월 더불어민주당 조응천 의원이 대표 발의해 국토위에 계류 중인 법안입니다.개정안은 법 제38조 가운데 \\'철도시설 유지보수 시행 업무는 코레일에 위탁한다\\'는 단서 조항을 삭제하는 것입니다. 철도시설의 유지보수 업무를 코레일에서 분리해 국가철도공단을 비롯한 제3의 업체 등도 맡을 수 있게 하겠다는 취지입니다.이는 코레일이 운영하지 않는\\xa0SR\\xa0수서고속선(2016년 개통), 진접선(2022년 개통), 수도권광역급행철도(GTX)-A(2024년 개통) 등의 국가철도 노선까지 코레일이 유지보수를 맡게 되면서 안전과 효율성이 저하되는 문제를 해결하기 위한 것이라고 국토부는 설명했습니다.국토부는 개정안에 더해 \\'코레일이 운영하는 구간은 코레일이, 그 외의 구간은 해당 운영사 등이 유지보수를 수행하도록 한다\\'는 내용을 철산법 시행령에 규정하는 방안을 마련해 국회에 제안했다고 덧붙였습니다.이번 법 개정 추진 동력은 국토부가 철도 관련 기관들과 함께 올해 초 국제 컨설팅 업체에 발주한 철도 안전체계 개선 용역 결과가 바탕이 됐습니다.앞서 국토부는 코레일 유지보수 독점 구조를 근본적으로 재검토하기 위해 코레일·철도공단과 함께 보스턴컨설팅그룹(BCG)에 지난 3월 \\'철도안전체계 심층진단 및 개선방안 연구\\' 용역을 발주한 바 있습니다.국토부에 따르면 지난달 마무리된 용역 결과 철산법 개정이 필요하다는 진단이 제시됐습니다. 유지보수와 관제는 코레일로, 건설과 개량은 철도공단으로 위탁된 \\'시설관리의 파편화\\'가 철도 사고의 근본적 원인이라는 분석이 나왔다는 것입니다.컨설팅은 현행 철산법이 시설관리 책임을 분산시켜 안전관리의 사각지대를 만든다고 지적했다. 이에 따라 업무의 일관성이 부족해지고, 시스템 개선도 지연되는 것은 물론 사고 발생 시 원인 해결보다 책임 공방에 치중되는 경향이 나타난다는 것입니다.컨설팅은 철도 안전 강화를 위해 코레일의 조직혁신을 추진하는 방안을 제시했습니다.철도 관제와 유지보수 업무를 철도공단으로 이관하는 것이 바람직하지만, \\'철저한 준비 과정\\'이 필요하기에 우선은 현 체계 내에서의 조직 개선과 안전 관리에 집중하라는 것입니다.그 방안으로는 코레일 내 관제·유지보수를 총괄하는 \\'안전부사장\\'을 신설해 유지보수의 정보화·첨단화를 통해 유지보수의 책임성을 강화하는 것이 제시됐습니다.나아가 안전 강화를 위해 \\'여객열차 충돌·탈선\\', \\'철도종사자 사상\\', \\'장시간 운행지연\\' 모두 직전 3년 평균의 1.3배 이하로 유지하는 안전지표를 제시하고 상시 평가·관리하는 방안도 포함했습니다.만일 이런 조직 혁신이 부진하거나, 안전지표 준수에 실패하면 관제와 유지보수의 기능 이관 등 근본적인 개편을 추진해야 한다는 것이 컨설팅의 결론입니다.국토부는 이에 따라 국회에 \\'코레일이 긴장감을 갖고 안전지표를 준수하도록 시행령에 규정하는 방안\\'을 마련해 제안했다고 밝혔습니다.다만 철도노조와 국회 일각에서는 철도 유지보수 업무를 코레일에서 분리하는 것은 \\'철도 민영화\\'를 위한 초석으로 보고 강하게 반대하고 있습니다.철도노조는 유지보수 업무를 분리하려는 움직임에 맞서 총파업도 불사하겠다는 입장입니다. 이들은 철도 운영과 유지보수가 나뉠 경우 오히려 열차 안전은 취약해지고 사회적 비용이 증가한다고 주장합니다.이와 관련, 박재순 국토부 철도안전정책관은 \"철산법 개정이 \\'민영화\\'는 절대 아니다\"라며 \"유지보수를 민간에 개방하는 것이 아니라, 서울교통공사 등 공공기관으로 한정하는 것\"이라고 설명했습니다.예를 들어 공공주택을 한국토지주택공사(LH)뿐 아니라 서울도시주택공사(SH), 경기주택도시공사(GH)가 나눠 짓는다고 해서 민영화되는 것은 아니라는 논리입니다.박 정책관은 국토위 교통소위에서 철산법이 처리될 가능성에 대해서는 \"지난 5일 법안심사 소위에서 \\'빨리 상정해서 논의해야 한다\\'는 이야기가 많이 나왔다\"라며 \"20여년간 유지된 이 조항을 개정해야 한다는 필요성에 대해 공감대가 많으신 것 같다\"고 말했습니다.만일 오는 19일 소위원회에서도 개정안이 통과되지 않으면 내년 총선 정국에 접어들며 개정안은 사실상 폐기 수순을 밟게 됩니다.백원국 국토부 제2차관은 \"국민안전이 최우선이라는 원칙에 따라 철산법 개정은 시급한 사안이므로 국회에서 조속히 논의될 수 있도록 최선을 다할 것\"이라고 밝혔습니다.당신의 제보가 뉴스로 만들어집니다.SBS Biz는 여러분의 제보를 기다리고 있습니다.홈페이지 = https://url.kr/9pghjn', '2023.', 'ER01', 'https://n.news.naver.com/mnews')\n",
      "(4, '국회 산자중기위, 국감 불출석 이상필·양계호 고발', \"[서울=뉴시스] 고범준 기자 = 이재정 산업통상자원중소벤처기업위원회 위원장이 30일 오전 서울 여의도 국회에서 열린 산업통상자원중소벤처기업위원회 전체회의에서 의사봉을 두드리고 있다. 2023.11.30. bjko@newsis.com[서울=뉴시스]  국회 산업통상자원중소벤처기업위원회는 14일 정당한 이유 없이 국정감사에 불출석한 증인들을 고발하기로 했다.산자중기위는 이날 오후 국회에서 전체회의를 열고 이상필 SMJ컴퍼니 부사장과 양계호 화이트코리아 회장 '국회에서의 증언·감정 등에 관한 법률'에 따라 고발하기로 의결했다.앞서 '101번지 남산돈까스' 운영사 에스엠제이컴퍼니는 건물주 지위를 악용해 남산돈까스를 운영하던 원조 소상공인을 쫓아내고 원조 가게인 척 영업을 이어가고 있다는 의혹이 제기됐다.또 양 회장은 한국토지주택공사(LH) 부지 매입 과정에서 발표한 계획과 상이하게 사업을 추진해 소상공인에게 피해를 주고 있단 의혹을 받았다.이에 따라 이들은 올해 산자중기위 국감에서 증인으로 채택됐지만, 해외출장 등을 이유로 불참을 통보했다.▶ 네이버에서 뉴시스 구독하기▶ K-Artprice, 유명 미술작품 가격 공개\", '2023.', 'ER01', 'https://n.news.naver.com/mnews')\n",
      "(5, '경실련 “LH 용역 80%는 전관업체가 수주”', '14일 오전 서울 종로구 경제정의실천시민연합(경실련) 강당에서  ‘LH 용역 전관업체 수주과점 실태 분석결과 발표 기자회견’이 열리고 있다. 경실련 제공한국토지주택공사(LH)의 건설사업관리 용역의 80%(금액 기준) 정도를 LH 출신 임직원을 영입한 업체들이 수주했다는 시민단체의 조사 결과가 나왔다. 계약 건수로 보면, 건설사업 관리 용역에서는 61.6%, 설계 공모용역에서는 71.5%를 전관 영입업체가 차지했다.경제정의실천시민연합(경실련)은 14일 서울 종로구 경실련 강당에서 기자회견을 열고 한국NGO신문을 통해 입수한 LH 전관 영입 업체 현황과 LH 발주 공사 및 용역 계약 현황을 비교·분석한 결과를 발표했다.경실련에 따르면 지난해 1월부터 지난 6월까지 LH 건설사업 관리 용역 5101억원(112건) 가운데 전관업체가 포함된 공동도급(컨소시엄)이 총계약액 77.0%에 해당하는 3925억원(69건)의 용역을 수주했다. LH가 발주한 설계용역 계약도 전체 계약액의 77.8%인 1928억원을 전관업체가 포함된 컨소시엄이 따냈다.아울러 건설사업관리 용역에서 상위 1~23위 사업, 설계용역의 경우 계약금 상위 1~11위 사업을 전관업체가 참여한 컨소시엄이 수주한 것으로 분석됐다. 전관 출신의 이점을 활용한 업체들이 단가가 높은 계약을 집중적으로 수주한 결과라고 경실련은 해석했다.전관 리스트에는 올해 기준으로 142명의 LH 전관 이름과 이들이 근무하는 60개의 업체명이 담겨있다. 지난 2021년 경실련이 입수한 리스트(71개 업체 95명)와 비교하면 2년 새 46명이 늘어난 것이다.경실련은 이러한 전관업체의 수주 과점이 나타난 원인이 종합심사낙찰제라는 평가 방식에 있다고 주장했다. LH 용역사업은 심사를 거쳐 기술 점수(80％)와 가격 점수(20％)를 더한 점수로 순위를 매기는데 심사위원 주관에 따라 좌우될 가능성이 높은 기술 점수가 큰 비중을 차지한다는 것이다.김성달 경실련 사무총장은 “지난 12일 국토교통부가 인천 검단 지하주차장 붕괴 사고로 촉발된 국민의 안전 불안감을 해소시킨다는 취지로 LH 혁신방안 등을 발표했지만, 부실·반칙·특혜를 없애기 위한 대책은 포함되지 않았다”며 “대통령이 직접 나서 전관 특혜 근절을 위한 특별위원회를 상설 운영해야 한다”고 말했다.', '2023.', 'ER01', 'https://n.news.naver.com/mnews')\n"
     ]
    }
   ],
   "source": [
    "config = {'user': 'admin_ytk',\n",
    "            'password': 'tN8VnV1aBuDNvcnPWKgU',\n",
    "            'host': 'database-ytk.ctkg5u6wqxe6.us-east-2.rds.amazonaws.com',\n",
    "            'database': 'NLP_G3',\n",
    "            'raise_on_warnings': True}\n",
    "cnn = pymysql.connect(host='database-ytk.ctkg5u6wqxe6.us-east-2.rds.amazonaws.com', user='admin_ytk', password='tN8VnV1aBuDNvcnPWKgU',db='NLP_G3')        \n",
    "cur = cnn.cursor()\n",
    "\n",
    "query = 'SELECT * FROM news_data'\n",
    "cur.execute(query)\n",
    "\n",
    "\n",
    "result = cur.fetchall()\n",
    "for row in result:\n",
    "     print(row)\n",
    "cur.close()\n",
    "cnn.close()"
   ]
  },
  {
   "cell_type": "code",
   "execution_count": 34,
   "id": "352d0bb5",
   "metadata": {},
   "outputs": [],
   "source": [
    "qd = []\n",
    "\n",
    "def dbUpdater():\n",
    "    config = {'user': 'admin_ytk',\n",
    "            'password': 'tN8VnV1aBuDNvcnPWKgU',\n",
    "            'host': 'database-ytk.ctkg5u6wqxe6.us-east-2.rds.amazonaws.com',\n",
    "            'database': 'NLP_G3',\n",
    "            'raise_on_warnings': True}\n",
    "    \n",
    "    cnn = pymysql.connect(host='database-ytk.ctkg5u6wqxe6.us-east-2.rds.amazonaws.com', \n",
    "                              user='admin_ytk', password='tN8VnV1aBuDNvcnPWKgU',db='NLP_G3')        \n",
    "        \n",
    "    cur = cnn.cursor()\n",
    "        \n",
    "        #테이블에 맞춰 항목 추가 예정 \n",
    "#     for i in range(len(self.article_urls)):\n",
    "#         data = (self.titles[i], self.dates[i])\n",
    "#         querys_data.append(data)\n",
    "        \n",
    "        #query = 'INSERT INTO news_data VALUES (%s, %s)'\n",
    "    \n",
    "    qd.append(('wr','wqdqwd'))\n",
    "    qd.append(('uyk','htyh'))\n",
    "    qd.append(('gewg','ew'))\n",
    "    \n",
    "    \n",
    "    \n",
    "    \n",
    "    query = \"INSERT INTO test (name, City) VALUES (%s, %s)\"\n",
    "        \n",
    "    for i in qd:\n",
    "        cur.execute(query, i)\n",
    "        \n",
    "    cnn.commit()"
   ]
  },
  {
   "cell_type": "code",
   "execution_count": 62,
   "id": "a0524249",
   "metadata": {},
   "outputs": [],
   "source": [
    "class newsScrap :\n",
    "    \n",
    "    headers = {\"User-Agent\":\"Mozilla/5.0 (Windows NT 10.0; Win64; x64) AppleWebKit/537.36 (KHTML, like Gecko) Chrome/118.0.0.0 Safari/537.36\"}\n",
    "    \n",
    "    def __init__(self, company):\n",
    "        self.company = company\n",
    "        self.titles = []\n",
    "        self.dates = []\n",
    "        self.articles = []\n",
    "        self.article_urls = []\n",
    "        self.press_companies = []\n",
    "        self.url_full = []\n",
    "        self.tests = []\n",
    "        \n",
    "    def createNewsLinks(self):\n",
    "        start_point = 1\n",
    "        while True :\n",
    "            #pd => 4=1일 , 2= 1달\n",
    "            url = 'https://search.naver.com/search.naver?where=news&query='+ str(self.company) + '&sm=tab_opt&sort=1&photo=0&field=0&pd=4&start=' + str(start_point)\n",
    "            web = requests.get(url).content\n",
    "            source = BeautifulSoup(web, 'html.parser')\n",
    "            \n",
    "            for urls in source.find_all('a', {'class' : \"info\"}):\n",
    "                if urls[\"href\"].startswith(\"https://n.news.naver.com\"):\n",
    "                    self.article_urls.append(urls[\"href\"])\n",
    "                    # print(urls[\"href\"])\n",
    "            is_last_page = source.find('a',{'class':'btn_next'}).get('aria-disabled')\n",
    "            if is_last_page == \"true\":\n",
    "                # print(\"last page\")\n",
    "                break\n",
    "            else:\n",
    "                time.sleep(1)\n",
    "                start_point += 10\n",
    "                \n",
    "                    \n",
    "    def newsDataScrap(self):\n",
    "        test = 0\n",
    "        for url in self.article_urls:\n",
    "            try:\n",
    "                web_news = requests.get(url, headers=self.headers).content\n",
    "                source_news = BeautifulSoup(web_news, 'html.parser')\n",
    "\n",
    "                title = source_news.find('h2', {'class' : 'media_end_head_headline'}).get_text()\n",
    "\n",
    "                date = source_news.find('span', {'class' : 'media_end_head_info_datestamp_time'}).get_text()\n",
    "\n",
    "                article = source_news.find('div', {'id' : 'newsct_article'}).get_text()\n",
    "                article = article.replace(\"\\n\", \"\")\n",
    "                article = article.replace(\"// flash 오류를 우회하기 위한 함수 추가function _flash_removeCallback() {}\", \"\")\n",
    "                article = article.replace(\"동영상 뉴스       \", \"\")\n",
    "                article = article.replace(\"동영상 뉴스\", \"\")\n",
    "                article = article.strip()\n",
    "\n",
    "                press_company = source_news.find('em', {'class':'media_end_linked_more_point'}).get_text()\n",
    "                \n",
    "                \n",
    "                test += 1\n",
    "                \n",
    "                self.tests.append(test)\n",
    "                self.titles.append(title)\n",
    "                self.dates.append(date)\n",
    "                self.articles.append(article)\n",
    "                self.press_companies.append(press_company)\n",
    "                self.url_full.append(url)\n",
    "            except:\n",
    "                pass\n",
    "            \n",
    "            \n",
    "            \n",
    "    def saveExcel(self):\n",
    "        article_df = pd.DataFrame({'Title':self.titles, \n",
    "                                   'Date':self.dates, \n",
    "                                   'Article':self.articles, \n",
    "                                   'URL':self.url_full, \n",
    "                                   'PressCompany':self.press_companies})\n",
    "        article_df.to_excel('{}_{}.xlsx'.format(self.company, datetime.now().strftime('%y%m%d_%H%M')), index=False)\n",
    "        \n",
    "        \n",
    "    def dbUpdater(self):\n",
    "        config = {'user': 'admin_ytk',\n",
    "                'password': 'tN8VnV1aBuDNvcnPWKgU',\n",
    "                'host': 'database-ytk.ctkg5u6wqxe6.us-east-2.rds.amazonaws.com',\n",
    "                'database': 'NLP_G3',\n",
    "                'raise_on_warnings': True}\n",
    "        \n",
    "        cnn = pymysql.connect(host='database-ytk.ctkg5u6wqxe6.us-east-2.rds.amazonaws.com', \n",
    "                              user='admin_ytk', password='tN8VnV1aBuDNvcnPWKgU',db='NLP_G3')\n",
    "        querys_data = []\n",
    "        \n",
    "        cur = cnn.cursor()\n",
    "        \n",
    "        #테이블에 맞춰 항목 추가 예정 \n",
    "        for i in range(5):\n",
    "            data = (self.tests[i], self.titles[i], self.articles[i], self.dates[i], 'ER01', self.article_urls[i])\n",
    "            querys_data.append(data)\n",
    "        \n",
    "        query = 'INSERT INTO news_data VALUES (%s, %s, %s, %s, %s, %s)'\n",
    "        #query = \"INSERT INTO test (name, City) VALUES (%s, %s)\"\n",
    "        \n",
    "        for i in querys_data:\n",
    "            cur.execute(query, i)\n",
    "        \n",
    "        cnn.commit()\n",
    "        cur.close()\n",
    "        cnn.close()"
   ]
  },
  {
   "cell_type": "code",
   "execution_count": 63,
   "id": "d9a5684e",
   "metadata": {},
   "outputs": [
    {
     "name": "stdout",
     "output_type": "stream",
     "text": [
      "['https://n.news.naver.com/mnews/article/011/0004274412?sid=101', 'https://n.news.naver.com/mnews/article/081/0003416608?sid=102', 'https://n.news.naver.com/mnews/article/374/0000362795?sid=101', 'https://n.news.naver.com/mnews/article/003/0012267265?sid=100', 'https://n.news.naver.com/mnews/article/081/0003416605?sid=102', 'https://n.news.naver.com/mnews/article/056/0011622339?sid=102', 'https://n.news.naver.com/mnews/article/016/0002239001?sid=101', 'https://n.news.naver.com/mnews/article/003/0012267161?sid=102', 'https://n.news.naver.com/mnews/article/079/0003843509?sid=102', 'https://n.news.naver.com/mnews/article/021/0002610818?sid=102', 'https://n.news.naver.com/mnews/article/654/0000060354?sid=102', 'https://n.news.naver.com/mnews/article/015/0004925388?sid=101', 'https://n.news.naver.com/mnews/article/374/0000362778?sid=101', 'https://n.news.naver.com/mnews/article/001/0014390481?sid=101', 'https://n.news.naver.com/mnews/article/047/0002415832?sid=102', 'https://n.news.naver.com/mnews/article/003/0012267040?sid=102', 'https://n.news.naver.com/mnews/article/029/0002843342?sid=101', 'https://n.news.naver.com/mnews/article/016/0002238969?sid=101', 'https://n.news.naver.com/mnews/article/031/0000796615?sid=101', 'https://n.news.naver.com/mnews/article/055/0001114383?sid=101', 'https://n.news.naver.com/mnews/article/015/0004925373?sid=101', 'https://n.news.naver.com/mnews/article/028/0002668703?sid=102', 'https://n.news.naver.com/mnews/article/001/0014390295?sid=102', 'https://n.news.naver.com/mnews/article/079/0003843454?sid=102', 'https://n.news.naver.com/mnews/article/001/0014390268?sid=102', 'https://n.news.naver.com/mnews/article/421/0007234673?sid=102', 'https://n.news.naver.com/mnews/article/382/0001094024?sid=102', 'https://n.news.naver.com/mnews/article/421/0007234578?sid=101', 'https://n.news.naver.com/mnews/article/421/0007234576?sid=101', 'https://n.news.naver.com/mnews/article/421/0007234577?sid=101', 'https://n.news.naver.com/mnews/article/421/0007234573?sid=101', 'https://n.news.naver.com/mnews/article/421/0007234574?sid=101', 'https://n.news.naver.com/mnews/article/421/0007234572?sid=101', 'https://n.news.naver.com/mnews/article/088/0000851641?sid=102', 'https://n.news.naver.com/mnews/article/011/0004274307?sid=102', 'https://n.news.naver.com/mnews/article/008/0004974028?sid=102', 'https://n.news.naver.com/mnews/article/029/0002843313?sid=101', 'https://n.news.naver.com/mnews/article/016/0002238863?sid=101', 'https://n.news.naver.com/mnews/article/421/0007234394?sid=101', 'https://n.news.naver.com/mnews/article/003/0012266589?sid=102', 'https://n.news.naver.com/mnews/article/421/0007234392?sid=101', 'https://n.news.naver.com/mnews/article/003/0012266583?sid=102', 'https://n.news.naver.com/mnews/article/003/0012266584?sid=102', 'https://n.news.naver.com/mnews/article/003/0012266588?sid=102', 'https://n.news.naver.com/mnews/article/003/0012266585?sid=102', 'https://n.news.naver.com/mnews/article/003/0012266586?sid=102', 'https://n.news.naver.com/mnews/article/003/0012266558?sid=101', 'https://n.news.naver.com/mnews/article/277/0005354931?sid=101', 'https://n.news.naver.com/mnews/article/421/0007234363?sid=101', 'https://n.news.naver.com/mnews/article/001/0014389965?sid=101', 'https://n.news.naver.com/mnews/article/215/0001139110?sid=101', 'https://n.news.naver.com/mnews/article/001/0014389949?sid=101', 'https://n.news.naver.com/mnews/article/421/0007234338?sid=102', 'https://n.news.naver.com/mnews/article/001/0014389941?sid=101', 'https://n.news.naver.com/mnews/article/001/0014389938?sid=101', 'https://n.news.naver.com/mnews/article/001/0014389942?sid=101', 'https://n.news.naver.com/mnews/article/001/0014389943?sid=101', 'https://n.news.naver.com/mnews/article/001/0014389939?sid=101', 'https://n.news.naver.com/mnews/article/001/0014389940?sid=101', 'https://n.news.naver.com/mnews/article/001/0014389937?sid=101', 'https://n.news.naver.com/mnews/article/374/0000362720?sid=101', 'https://n.news.naver.com/mnews/article/016/0002238804?sid=101', 'https://n.news.naver.com/mnews/article/003/0012266471?sid=102', 'https://n.news.naver.com/mnews/article/001/0014389826?sid=101', 'https://n.news.naver.com/mnews/article/079/0003843367?sid=102', 'https://n.news.naver.com/mnews/article/016/0002238765?sid=101', 'https://n.news.naver.com/mnews/article/001/0014389713?sid=102', 'https://n.news.naver.com/mnews/article/005/0001659547?sid=102', 'https://n.news.naver.com/mnews/article/277/0005354814?sid=101', 'https://n.news.naver.com/mnews/article/277/0005354807?sid=101', 'https://n.news.naver.com/mnews/article/003/0012266209?sid=101', 'https://n.news.naver.com/mnews/article/277/0005354798?sid=101', 'https://n.news.naver.com/mnews/article/003/0012266133?sid=101', 'https://n.news.naver.com/mnews/article/031/0000796495?sid=101', 'https://n.news.naver.com/mnews/article/008/0004973901?sid=101', 'https://n.news.naver.com/mnews/article/016/0002238691?sid=101', 'https://n.news.naver.com/mnews/article/018/0005637470?sid=101', 'https://n.news.naver.com/mnews/article/421/0007233833?sid=101', 'https://n.news.naver.com/mnews/article/243/0000053951?sid=101', 'https://n.news.naver.com/mnews/article/018/0005637465?sid=101', 'https://n.news.naver.com/mnews/article/016/0002238686?sid=101', 'https://n.news.naver.com/mnews/article/421/0007233817?sid=101', 'https://n.news.naver.com/mnews/article/421/0007233821?sid=101', 'https://n.news.naver.com/mnews/article/016/0002238677?sid=101', 'https://n.news.naver.com/mnews/article/008/0004973834?sid=101', 'https://n.news.naver.com/mnews/article/666/0000028472?sid=102', 'https://n.news.naver.com/mnews/article/081/0003416456?sid=100', 'https://n.news.naver.com/mnews/article/119/0002779089?sid=101', 'https://n.news.naver.com/mnews/article/023/0003804762?sid=101', 'https://n.news.naver.com/mnews/article/020/0003536863?sid=110', 'https://n.news.naver.com/mnews/article/366/0000954779?sid=101', 'https://n.news.naver.com/mnews/article/665/0000002111?sid=101', 'https://n.news.naver.com/mnews/article/082/0001246531?sid=101', 'https://n.news.naver.com/mnews/article/003/0012265362?sid=102', 'https://n.news.naver.com/mnews/article/656/0000072890?sid=100', 'https://n.news.naver.com/mnews/article/421/0007233286?sid=100', 'https://n.news.naver.com/mnews/article/666/0000028433?sid=101', 'https://n.news.naver.com/mnews/article/015/0004925089?sid=101', 'https://n.news.naver.com/mnews/article/015/0004925086?sid=101', 'https://n.news.naver.com/mnews/article/088/0000851566?sid=102', 'https://n.news.naver.com/mnews/article/056/0011621547?sid=102', 'https://n.news.naver.com/mnews/article/005/0001659364?sid=102', 'https://n.news.naver.com/mnews/article/088/0000851556?sid=100', 'https://n.news.naver.com/mnews/article/014/0005114282?sid=101', 'https://n.news.naver.com/mnews/article/014/0005114283?sid=101', 'https://n.news.naver.com/mnews/article/009/0005229594?sid=101', 'https://n.news.naver.com/mnews/article/008/0004973696?sid=102', 'https://n.news.naver.com/mnews/article/003/0012265192?sid=102', 'https://n.news.naver.com/mnews/article/015/0004924994?sid=101', 'https://n.news.naver.com/mnews/article/088/0000851504?sid=101', 'https://n.news.naver.com/mnews/article/055/0001114095?sid=101', 'https://n.news.naver.com/mnews/article/055/0001114094?sid=101', 'https://n.news.naver.com/mnews/article/648/0000021726?sid=101', 'https://n.news.naver.com/mnews/article/001/0014388481?sid=101', 'https://n.news.naver.com/mnews/article/008/0004973643?sid=101', 'https://n.news.naver.com/mnews/article/374/0000362614?sid=101', 'https://n.news.naver.com/mnews/article/014/0005114200?sid=101']\n",
      "117\n",
      "['철도시설 유지보수 코레일 독점깨지나', '“3683만원 넘으면 주차 금지”…LH 임대아파트 공지 ‘갑론을박’', \"국토부, '철도 유지보수 코레일 독점' 규정 개정 추진\", '국회 산자중기위, 국감 불출석 이상필·양계호 고발', '경실련 “LH 용역 80%는 전관업체가 수주”', '경실련 “LH출신 전관 영입 2년새 46명 증가…수주 과점”', 'LH, 광주 동남권 주거지원종합센터 착공', '울진군, 경북도·경북개발공사·LH와 국가산단 추진 협약', 'LH광주전남, 광주동남권 주거지원종합센터 착공', '“LH 건설사업 77% 전관업체가 독점 수주”', '국내 최초 수소실증단지, 삼척에서 조성돼 15일 준공식', \"천호동, 문화재 옆 규제 어떻게 피했나…'40층 한강뷰'로 개발\", \"[건설 IN] '선' 넘으려는 SH공사…LH는 부글부글\", 'LH, 광주 동남권 주거지원종합센터 착공', \"선물 들고 쪽방촌 찾는 정치권... 정작 정책은 '거꾸로'\", 'LH 광주동남권 주거지원종합센터 착공', '민영 완판 성공한 `동탄레이크파크 자연& e편한세상` 14일부터 국민주택 정당계약 실시', '건물만 분양아파트 개인간 거래 가능해진다', '[김헌동號 SH의 2년]② 반값 주택 소유주에 한계는 없나', '\"LH 용역 77%, 전관 업체 수주…평가 방식이 문제\"', \"'공항 고도제한' 신월7-2구역…공공재개발로 2228가구 공급\", '경실련 “LH 전관 업체들이 건설사업관리용역 77% 수주”', \"국토부, '철도 유지보수 코레일 독점' 규정 개정 추진\", '경실련 \"LH 전관 2년 새 46명 늘어…수주과점 근절해야\"', '경실련 \"LH 설계·건설관리 용역계약 60％ 이상 전관업체 수주\"', '임대아파트에 BMW·포드 즐비…\"3683만원 넘으면 주차 금지\" 공지 떴다', '증평군, ‘창동리 도시재생사업’ 2024년 준공 목표', \"'LH 건설사업관리용역 5천억 중 4천억을 전관업체가 수주'\", \"'전관업체 계약 설계용역 96%, 설계공모계약에 집중'\", \"'불공정한 수주과점 근절!'\", \"'유례없는 강등차등점수제 즉각 폐지'\", \"'불공정한 수주과점 근절!'\", \"'부실·반칙·특혜없는 안전한 대한민국을 위해'\", '경북도, 안동·울진 신규 국가산단 조성 순항 가속도낸다', '경북 바이오생명·원자력수소 국가산단 기본협약 체결', '\"LH 일 안 하냐\"…임대 아파트 주차장에 BMW·포드 줄줄이', '정부빚 처음으로 비기축통화국 평균 넘겼다...한전 적자로 공공부채 1500조 넘겨', '면목·천호·양천서 5200가구 쏟아진다', \"'상위 10개 전관업체, 총 계약금 중 24% 가져가'\", '경실련, LH용역 수주과점 실태 분석결과 발표', \"'대통령 직속 전관특혜근절특위 상설 운영 요구'\", '구호 외치는 경실련', '경실련, LH용역 수주과점 실태 분석결과 발표', '구호 외치는 경실련', '경실련, LH용역 수주과점 실태 분석결과 발표', \"'불공정한 수주과점 근절하라'\", '공공부문 나랏빚 1년새 161조↑…1600조 육박·GDP 70% 훌쩍', '공공부문 부채 1588조원 사상 최고…GDP 대비 70% 첫 돌파', '작년 공공부문 부채 161조원 늘어 1500조 돌파…GDP 대비 73.5%', '경실련, LH 용역 전관업체 수주과점 실태 분석결과 발표 기자회견', \"천호역 인근에 '40층 한강뷰' 단지 들어선다\", 'LH 용역 전관업체 수주과점 실태 분석결과 발표하는 경실련', 'LH 용역 80% 독점 업체 살펴보니…LH 전관 영입업체가 차지', 'LH 용역 전관업체 수주과점 실태 분석결과 발표하는 경실련', '경실련, LH 용역 전관업체 수주과점 실태 분석결과 발표 기자회견', 'LH 용역 전관업체 수주과점 실태 분석결과 발표하는 경실련', 'LH 용역 전관업체 수주과점 실태 분석결과 발표하는 경실련', '경실련, LH 용역 전관업체 수주과점 실태 분석결과 발표 기자회견', '경실련, LH 용역 전관업체 수주과점 실태 분석결과 발표 기자회견', '경실련, LH 용역 전관업체 수주과점 실태 분석결과 발표 기자회견', '경실련 \"LH 전관 2년새 50% 증가…입찰 담합 만연\"', \"비금융공기업 부채까지 작년 나랏빚 1588.7兆 '육박...GDP의 73%↑\", '경실련 \"LH 전관 2년새 95명→142명…입찰 담합 만연\"', '[게시판] LH, 탄소중립 경연대회서 환경부 장관상 수상', '경북도, 안동·울진 신규 국가산단 조성 기본협약 체결', 'LH, 환경부 장관상 수상…보상현장 탄소중립 실현 공로', '안동·울진 신규 국가산단 조성 속도…시행자와 기본협약', '“3683만원 넘으면 주차 등록 안 돼요” 임대주택 ‘골머리’', 'LH, 보상현장 탄소중립 실현 공로 인정받아 환경부 장관상 수상', '신월동 구릉지 주택가, 최고 12층 2228가구 탈바꿈', '면목7구역, 용마산 어우러진 1447세대 아파트로 탈바꿈', \"천호역 인근 '40층 한강뷰' 단지 탈바꿈…1500여 가구 공급\", \"LH, '탄소중립 경연대회' 환경부 장관상…생활폐기물 수거 호평\", 'LH, 보상현장 탄소중립 실현 공로 환경부 장관상 수상', '신월동 구릉지 주택가, 2228가구 대단지로 변신한다', '면목7·천호A1 재개발 정비구역 지정…3000가구 공급 [부동산360]', '\"저층주거지가 한강뷰 단지로\"…천호 A1-1구역 정비계획 확정', 'LH, 보상현장 탄소중립 실현 공로로 환경부 장관상 수상', '층간소음 못 잡으면 준공 승인 안 내준다…건설사들 발동동', '신월동 941번지 공공재개발, 최고 12층 2228세대로 변신', '공공재개발 양천구 신월동 941번지, 2228가구 짓는다 [부동산360]', '천호동 저층 주거지, 한강뷰 단지로…최고 40층, 1528세대 공급', '양천구 신월동 구릉지 주택가 재개발…최고 12층 2228세대 공급', '분양가 상승 지속…지금이 브랜드 아파트 매수 ‘기회’ 평가', '\"신도시 참여 안돼\"…선 넘는 SH에 선 그은 국토부', '집 코앞서 거대암반 폭파… 인천지역 주민 ‘폭발’ [현장, 그곳&]', '탁월한 아이디어와 전문성… 행정 혁신·주민 편익 이끌다[제13회 지방행정의 달인]', \"'신생아 특례 구입' 등 내년 달라지는 부동산 제도는?\", '정부 주도로 첫 시니어 타운, 동탄에 2000실 규모 짓는다', '[사설]2년 반 만에 또 나온 LH혁신안… 이번엔 흐지부지 안 된다', '국내 첫 ‘실버주택 리츠’ 나온다… 동탄2신도시 내 민간사업자 공모', '내년 우리 경제 위협할 복병: 불평등의 고리 [마켓톡톡]', '조승환 해수장관  “북항 차질없이 추진·부산공동어시장 현대화 2026년 완공”', '군포시·LH, 산본신도시 주거환경 정비 실시 협약', '\"주민·공무원 한 팀, \\'행복한 100세 시대\\' 만들겠다\"', '국힘 총선 지도부 재구성…한동훈·원희룡 등판 빨라지나', '‘LH혁신안’·층간소음 불똥 튄 건설업계… ‘분양가 상승 압박’ 논란 [한양경제]', \"LH 혁신안에 '택지조성-주택사업 분리' 빠진 까닭은\", \"동탄2신도시에 국내 첫 '헬스케어 리츠' 도입한다\", '대구시 신청사 재원 마련 속도…칠곡·성서행정타운 매각 돌입', '군포시-LH, 산본신도시 정비 실시협약…상담지원센터 설치', '남부내륙철도 역세권 개발 밑그림 완성…최종 보고회 개최', '김오진 국토부 차관 \"LH, TK신공항 SPC 참여 방안 검토돼야\"', 'LH-군포시, 산본신도시·원도심 정비사업 협력', '\"내년엔 경영 우등생\"… 국토부 공공기관, 고강도 체질개선', \"시니어주택 투자 첫 '리츠'상품 나온다\", '군포시, LH와 산본신도시·원도심 정비 맞손...상담지원·주민컨설팅 실시', \"경남도, 남부내륙철도 연계 지역발전·역세권 개발 '시동'\", '정부가 L과 H 분할 하지 않은 까닭은…\"오히려 비효율 발생\"', \"'부실 감리' '층간소음' 잇따라 수술대…건설사 책임 키운다\", '공공주택사업 민간에 개방…\"분양가 상승 걱정마라\"', '공공주택도 래미안, 자이…고급 브랜드 이름 단다', \"'공공분양주택 사업' LH 대신할 건설사, 얼마나 될까?\", '군포시-LH, 산본신도시 정비 실시협약…상담지원센터 설치', '3기 신도시 개발, LH 대신 SH가?…\"서울부터 챙기라\" 선 그은 국토부', '[이슈체크] 정부 \"공공주택, 민간 업체와 경쟁체제로\"…분양가 상승 우려는?', '국내 처음으로 ‘헬스케어 리츠’ 도입된다']\n",
      "117\n",
      "117\n"
     ]
    }
   ],
   "source": [
    "test = newsScrap('LH')\n",
    "test.createNewsLinks()\n",
    "print(test.article_urls)\n",
    "print(len(test.article_urls))\n",
    "test.newsDataScrap()\n",
    "print(test.titles)\n",
    "print(len(test.titles))\n",
    "print(len(test.url_full))"
   ]
  },
  {
   "cell_type": "code",
   "execution_count": 57,
   "id": "0526e26f",
   "metadata": {},
   "outputs": [],
   "source": [
    "test.saveExcel()"
   ]
  },
  {
   "cell_type": "code",
   "execution_count": 64,
   "id": "2c0b9ba2",
   "metadata": {},
   "outputs": [],
   "source": [
    "test.dbUpdater()"
   ]
  },
  {
   "cell_type": "code",
   "execution_count": null,
   "id": "c0d5b948",
   "metadata": {},
   "outputs": [],
   "source": []
  }
 ],
 "metadata": {
  "kernelspec": {
   "display_name": "Python 3 (ipykernel)",
   "language": "python",
   "name": "python3"
  },
  "language_info": {
   "codemirror_mode": {
    "name": "ipython",
    "version": 3
   },
   "file_extension": ".py",
   "mimetype": "text/x-python",
   "name": "python",
   "nbconvert_exporter": "python",
   "pygments_lexer": "ipython3",
   "version": "3.8.17"
  }
 },
 "nbformat": 4,
 "nbformat_minor": 5
}
